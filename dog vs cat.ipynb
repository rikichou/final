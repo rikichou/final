{
 "cells": [
  {
   "cell_type": "markdown",
   "metadata": {},
   "source": [
    "# 1，数据集准备\n",
    "\n",
    "\n",
    "数据集来自kaggle的dog vs cat主页（https://www.kaggle.com/c/dogs-vs-cats-redux-kernels-edition/data）\n"
   ]
  },
  {
   "cell_type": "code",
   "execution_count": 1,
   "metadata": {},
   "outputs": [
    {
     "name": "stdout",
     "output_type": "stream",
     "text": [
      "Data is ready!\n"
     ]
    }
   ],
   "source": [
    "from urllib.request import urlretrieve\n",
    "from os.path import isfile, isdir\n",
    "from tqdm import tqdm\n",
    "import zipfile\n",
    "\n",
    "data_path = './'\n",
    "train_dir_name = 'train'\n",
    "test_dir_name = 'test'\n",
    "\n",
    "## check if the train and  test data is exist\n",
    "if not isdir(data_path + train_dir_name):\n",
    "    if not isfile(data_path + train_dir_name + '.zip'):\n",
    "        print (\"Please download train.zip from kaggle!\")\n",
    "        assert(False)\n",
    "    else:\n",
    "        with zipfile.ZipFile(data_path + train_dir_name + '.zip') as azip:\n",
    "            print (\"Now to extract %s \" % (data_path + train_dir_name + '.zip'))\n",
    "            azip.extractall()\n",
    "    \n",
    "if not isdir(data_path + test_dir_name):\n",
    "    if not isfile(data_path + test_dir_name + '.zip'):\n",
    "        print (\"Please download test1.zip from kaggle!\")\n",
    "        assert(False)\n",
    "    else:\n",
    "        with zipfile.ZipFile(data_path + test_dir_name + '.zip') as azip:\n",
    "            print (\"Now to extract %s \" % (data_path + test_dir_name + '.zip'))\n",
    "            azip.extractall()\n",
    "print (\"Data is ready!\")"
   ]
  },
  {
   "cell_type": "markdown",
   "metadata": {},
   "source": [
    "# 2，将猫狗训练数据分开存放\n",
    "\n",
    "首先我们会实施第一个方案，就是只用一个预训练模型来进行微调，看看这个模型做得怎么样？初步采用的模型是ResNet-50，所以我们就需要按照该模型的要求来对图片进行预处理。进一步地，为了尽快实现想法，我打算采用Keras平台，因为Keras已经包含了众多知名的模型，并且可以很轻易地加载与训练权重。而且Keras也提供了很方便的工具（image generator）来帮助我们直接从硬盘加载图片到模型，这样不但减少了代码量，而且利用Keras自带的程序能够极大减少内存的浪费（相比于手动一次性加载到内存）。但是image generator需要图片已经根据类别放入不同的文件夹。所以接下来的事情就是将训练和测试样本按照类别放入不同的文件夹。"
   ]
  },
  {
   "cell_type": "code",
   "execution_count": 2,
   "metadata": {
    "collapsed": true
   },
   "outputs": [],
   "source": [
    "import os\n",
    "\n",
    "train_dir = data_path + train_dir_name\n",
    "test_dir = data_path + test_dir_name\n",
    "\n",
    "## get all train filenames and test filenames\n",
    "train_filenames = os.listdir(train_dir)\n",
    "test_filenames = os.listdir(test_dir)\n",
    "\n",
    "## get all dogs and cats\n",
    "cat_names = filter(lambda x:x[:3] == 'cat', train_filenames)\n",
    "dog_names = filter(lambda x:x[:3] == 'dog', train_filenames)"
   ]
  },
  {
   "cell_type": "markdown",
   "metadata": {},
   "source": [
    "现在已经获得了文件名，现在需要另外建立一个文件夹，用于存储分开的猫狗图片。为了节省空间，这里采用建立软链接的方式来分开存储猫狗图片。"
   ]
  },
  {
   "cell_type": "code",
   "execution_count": 3,
   "metadata": {},
   "outputs": [
    {
     "name": "stdout",
     "output_type": "stream",
     "text": [
      "Build all linkage complete!\n"
     ]
    }
   ],
   "source": [
    "## check if we did that\n",
    "test_link_path = './test_link'\n",
    "test_link_data = './test_link/data'\n",
    "\n",
    "train_link_path = './train_link'\n",
    "train_link_cat = './train_link/cat'\n",
    "train_link_dog = './train_link/dog'\n",
    "\n",
    "if not isdir(test_link_path):\n",
    "    print (\"Now to build %s!\" % (test_link_path))\n",
    "    os.makedirs(test_link_path)\n",
    "    os.symlink('../' + test_dir_name, test_link_data)\n",
    "    \n",
    "if not isdir(train_link_path):\n",
    "    print (\"Now to build %s!\" % (train_link_path))\n",
    "    os.makedirs(train_link_cat)\n",
    "    os.makedirs(train_link_dog)\n",
    "    ## create link for the image\n",
    "    for file in cat_names:\n",
    "        os.symlink('../../' + train_dir_name+'/'+file, train_link_cat+'/'+file)\n",
    "    for file in dog_names:\n",
    "        os.symlink('../../' + train_dir_name+'/'+file, train_link_dog+'/'+file)\n",
    "\n",
    "print (\"Build all linkage complete!\")"
   ]
  },
  {
   "cell_type": "markdown",
   "metadata": {},
   "source": [
    "# 3, 载入ResNet-50模型，提取中间值\n",
    "\n",
    "现在我们需要载入预训练的ResNet-50模型，并且，由于ResNet-50模型的输出是1000维的向量，而我们的功能是二分类，所以只需要输出单一的概率即可，所以需要替换掉原始的输出层换成我们的sigmoid激活函数。\n"
   ]
  },
  {
   "cell_type": "code",
   "execution_count": 4,
   "metadata": {},
   "outputs": [
    {
     "name": "stderr",
     "output_type": "stream",
     "text": [
      "/home/riki/anaconda3/envs/py3/lib/python3.6/site-packages/h5py/__init__.py:34: FutureWarning: Conversion of the second argument of issubdtype from `float` to `np.floating` is deprecated. In future, it will be treated as `np.float64 == np.dtype(float).type`.\n",
      "  from ._conv import register_converters as _register_converters\n",
      "Using TensorFlow backend.\n"
     ]
    },
    {
     "name": "stdout",
     "output_type": "stream",
     "text": [
      "Tensor(\"avg_pool/AvgPool:0\", shape=(?, 1, 1, 2048), dtype=float32)\n"
     ]
    }
   ],
   "source": [
    "from keras.applications.resnet50 import ResNet50, preprocess_input\n",
    "from keras.layers import Input\n",
    "from keras.layers.core import Lambda\n",
    "\n",
    "## resNet-50 do not need preprocessing, so the resNet_input_shape is not neccessary\n",
    "resNet_input_shape = (224,224,3)\n",
    "\n",
    "res_x = Input(shape=resNet_input_shape)\n",
    "res_x = Lambda(preprocess_input)(res_x)\n",
    "res_model = ResNet50(include_top=False, weights='imagenet', input_tensor=res_x, input_shape=resNet_input_shape)\n",
    "\n",
    "print (res_model.output)"
   ]
  },
  {
   "cell_type": "markdown",
   "metadata": {},
   "source": [
    "由于我们采用的预训练模型，暂时只是在ResNet-50上微调，不会对全连接层以外的其它层进行训练。所以如果每次都从上面的模型的输入端进行输入的话会产生很多重复的计算，显得不那么高效。那么这里有一个技巧，可以先把全连接层以前的中间值（以下均称为向量）预先计算并保存起来，由于只需要训练之后的全连接层，所以，将这些保存的向量作为样本，当做后面的全连接层的训练的输入就好了。"
   ]
  },
  {
   "cell_type": "code",
   "execution_count": 7,
   "metadata": {},
   "outputs": [
    {
     "name": "stdout",
     "output_type": "stream",
     "text": [
      "./vect\n",
      "Make vector dir:./vect\n",
      "create vector!!\n",
      "Found 25000 images belonging to 2 classes.\n",
      "Found 12500 images belonging to 1 classes.\n"
     ]
    }
   ],
   "source": [
    "## build a model\n",
    "from keras.layers import Dense, GlobalAveragePooling2D, Dropout\n",
    "from keras.models import Model\n",
    "from keras.preprocessing.image import ImageDataGenerator\n",
    "import h5py\n",
    "\n",
    "vec_dir_name = \"vect/\"\n",
    "resnet_50_vec_name = 'resnet_50'\n",
    "vec_dir_path = data_path + \"vect\"\n",
    "resnet_50_vec_path = data_path + vec_dir_name + resnet_50_vec_name\n",
    "print (vec_dir_path)\n",
    "if not isdir(vec_dir_path):\n",
    "    os.makedirs(vec_dir_path)\n",
    "    print (\"Make vector dir:%s\" % (vec_dir_path))\n",
    "    \n",
    "\"\"\"\n",
    "check if the resnet-50 vector file is exist\n",
    "\"\"\"\n",
    "if not isfile(resnet_50_vec_path):\n",
    "    with h5py.File(resnet_50_vec_path, 'w') as f:\n",
    "        print (\"create vector!!\")\n",
    "        \n",
    "        out = GlobalAveragePooling2D()(res_model.output)\n",
    "        res_vec_model = Model(inputs=res_model.input, outputs=out)\n",
    "        \n",
    "        ## save vector\n",
    "        gen = ImageDataGenerator()\n",
    "        test_gen = ImageDataGenerator()\n",
    "        \"\"\"\n",
    "        classes = ['cat', 'dog'] -- cat is 0, dog is 1, so we need write this\n",
    "        class_mode = None -- i will not use like 'fit_fitgenerator', so i do not need labels\n",
    "        shuffle = False -- it is unneccssary\n",
    "        batch_size = 64 \n",
    "        \"\"\"\n",
    "        image_size = (224,224)\n",
    "        train_generator = gen.flow_from_directory(train_link_path, image_size, color_mode='rgb', \\\n",
    "                                                  classes=['cat', 'dog'], class_mode=None, shuffle=False, batch_size=64)\n",
    "        test_generator = test_gen.flow_from_directory(test_link_path, image_size, color_mode='rgb', \\\n",
    "                                                  class_mode=None, shuffle=False, batch_size=64)        \n",
    "        \"\"\"\n",
    "        steps = None, by default, the steps = len(generator)\n",
    "        \"\"\"\n",
    "        vector = res_vec_model.predict_generator(train_generator)\n",
    "        test_vector = res_vec_model.predict_generator(test_generator)\n",
    "        \n",
    "        f.create_dataset('x_train', data=vector)\n",
    "        f.create_dataset(\"y_train\", data=train_generator.classes)\n",
    "        f.create_dataset(\"test\", data=test_vector)\n"
   ]
  },
  {
   "cell_type": "markdown",
   "metadata": {
    "collapsed": true
   },
   "source": [
    "# 4, 训练一个模型"
   ]
  },
  {
   "cell_type": "code",
   "execution_count": 8,
   "metadata": {},
   "outputs": [
    {
     "name": "stdout",
     "output_type": "stream",
     "text": [
      "Train on 20000 samples, validate on 5000 samples\n",
      "Epoch 1/30\n",
      "20000/20000 [==============================] - 2s 125us/step - loss: 0.0898 - acc: 0.9657 - val_loss: 0.0358 - val_acc: 0.9864\n",
      "Epoch 2/30\n",
      "20000/20000 [==============================] - 1s 68us/step - loss: 0.0484 - acc: 0.9829 - val_loss: 0.0344 - val_acc: 0.9872\n",
      "Epoch 3/30\n",
      "20000/20000 [==============================] - 1s 73us/step - loss: 0.0426 - acc: 0.9851 - val_loss: 0.0305 - val_acc: 0.9876\n",
      "Epoch 4/30\n",
      "20000/20000 [==============================] - 1s 70us/step - loss: 0.0413 - acc: 0.9854 - val_loss: 0.0314 - val_acc: 0.9888\n",
      "Epoch 5/30\n",
      "20000/20000 [==============================] - 1s 63us/step - loss: 0.0395 - acc: 0.9864 - val_loss: 0.0328 - val_acc: 0.9882\n",
      "Epoch 6/30\n",
      "20000/20000 [==============================] - 1s 63us/step - loss: 0.0366 - acc: 0.9864 - val_loss: 0.0299 - val_acc: 0.9896\n",
      "Epoch 7/30\n",
      "20000/20000 [==============================] - 1s 60us/step - loss: 0.0362 - acc: 0.9867 - val_loss: 0.0301 - val_acc: 0.9894\n",
      "Epoch 8/30\n",
      "20000/20000 [==============================] - 1s 63us/step - loss: 0.0355 - acc: 0.9885 - val_loss: 0.0314 - val_acc: 0.9890\n",
      "Epoch 9/30\n",
      "20000/20000 [==============================] - 1s 66us/step - loss: 0.0375 - acc: 0.9874 - val_loss: 0.0298 - val_acc: 0.9890\n",
      "Epoch 10/30\n",
      "20000/20000 [==============================] - 1s 63us/step - loss: 0.0366 - acc: 0.9875 - val_loss: 0.0292 - val_acc: 0.9896\n",
      "Epoch 11/30\n",
      "20000/20000 [==============================] - 1s 65us/step - loss: 0.0379 - acc: 0.9871 - val_loss: 0.0286 - val_acc: 0.9896\n",
      "Epoch 12/30\n",
      "20000/20000 [==============================] - 1s 66us/step - loss: 0.0345 - acc: 0.9884 - val_loss: 0.0292 - val_acc: 0.9890\n",
      "Epoch 13/30\n",
      "20000/20000 [==============================] - 2s 98us/step - loss: 0.0354 - acc: 0.9882 - val_loss: 0.0301 - val_acc: 0.9896\n",
      "Epoch 14/30\n",
      "20000/20000 [==============================] - 2s 96us/step - loss: 0.0323 - acc: 0.9892 - val_loss: 0.0314 - val_acc: 0.9890\n",
      "Epoch 15/30\n",
      "20000/20000 [==============================] - 2s 123us/step - loss: 0.0348 - acc: 0.9884 - val_loss: 0.0304 - val_acc: 0.9894\n",
      "Epoch 16/30\n",
      "20000/20000 [==============================] - 2s 86us/step - loss: 0.0362 - acc: 0.9872 - val_loss: 0.0312 - val_acc: 0.9894\n",
      "Epoch 17/30\n",
      "20000/20000 [==============================] - 2s 83us/step - loss: 0.0358 - acc: 0.9873 - val_loss: 0.0311 - val_acc: 0.9900\n",
      "Epoch 18/30\n",
      "20000/20000 [==============================] - 2s 89us/step - loss: 0.0355 - acc: 0.9874 - val_loss: 0.0312 - val_acc: 0.9900\n",
      "Epoch 19/30\n",
      "20000/20000 [==============================] - 2s 81us/step - loss: 0.0341 - acc: 0.9881 - val_loss: 0.0305 - val_acc: 0.9902\n",
      "Epoch 20/30\n",
      "20000/20000 [==============================] - 1s 72us/step - loss: 0.0357 - acc: 0.9879 - val_loss: 0.0302 - val_acc: 0.9898\n",
      "Epoch 21/30\n",
      "20000/20000 [==============================] - 1s 72us/step - loss: 0.0341 - acc: 0.9887 - val_loss: 0.0303 - val_acc: 0.9894\n",
      "Epoch 22/30\n",
      "20000/20000 [==============================] - 1s 70us/step - loss: 0.0352 - acc: 0.9883 - val_loss: 0.0303 - val_acc: 0.9900\n",
      "Epoch 23/30\n",
      "20000/20000 [==============================] - 1s 70us/step - loss: 0.0383 - acc: 0.9877 - val_loss: 0.0327 - val_acc: 0.9886\n",
      "Epoch 24/30\n",
      "20000/20000 [==============================] - 1s 75us/step - loss: 0.0360 - acc: 0.9882 - val_loss: 0.0302 - val_acc: 0.9890\n",
      "Epoch 25/30\n",
      "20000/20000 [==============================] - 1s 75us/step - loss: 0.0336 - acc: 0.9891 - val_loss: 0.0347 - val_acc: 0.9884\n",
      "Epoch 26/30\n",
      "20000/20000 [==============================] - 2s 76us/step - loss: 0.0353 - acc: 0.9890 - val_loss: 0.0323 - val_acc: 0.9886\n",
      "Epoch 27/30\n",
      "20000/20000 [==============================] - 2s 77us/step - loss: 0.0350 - acc: 0.9884 - val_loss: 0.0303 - val_acc: 0.9892\n",
      "Epoch 28/30\n",
      "20000/20000 [==============================] - 1s 70us/step - loss: 0.0348 - acc: 0.9891 - val_loss: 0.0350 - val_acc: 0.9890\n",
      "Epoch 29/30\n",
      "20000/20000 [==============================] - 1s 72us/step - loss: 0.0352 - acc: 0.9889 - val_loss: 0.0347 - val_acc: 0.9896\n",
      "Epoch 30/30\n",
      "20000/20000 [==============================] - 1s 69us/step - loss: 0.0359 - acc: 0.9871 - val_loss: 0.0313 - val_acc: 0.9900\n"
     ]
    }
   ],
   "source": [
    "import numpy as np\n",
    "from sklearn.utils import shuffle\n",
    "\n",
    "\n",
    "with h5py.File(resnet_50_vec_path, 'r') as f:\n",
    "    x_train = np.array(f['x_train'])\n",
    "    y_train = np.array(f['y_train'])\n",
    "    x_train, y_train = shuffle(x_train, y_train, random_state=0)\n",
    "    \n",
    "input_tensor = Input(shape=(2048,))\n",
    "x = Dropout(0.5)(input_tensor)\n",
    "x = Dense(1, activation='sigmoid', name='res_dense_1')(x)\n",
    "\n",
    "model = Model(inputs=input_tensor, outputs=x)\n",
    "\n",
    "model.compile(optimizer='adadelta', loss='binary_crossentropy', metrics=['accuracy'])\n",
    "\n",
    "hist = model.fit(x_train, y_train, batch_size=32, epochs=30, validation_split=0.2)"
   ]
  },
  {
   "cell_type": "markdown",
   "metadata": {},
   "source": [
    "上面的结果看起来还不错，本来是0.035这样的验证集（不是测试集）loss可以在leaderboard上排名前10名了，待会儿再在测试集上得出结果提交到kaggle。其实在得到这个结果之前犯了一个错误，就是从文件中读取出来x_train和y_train之后，没有对样本进行shuffle。导致验证集的loss在0.2到0.7不断地跳动，我刚开始还以为只是模型的结构引起的过拟合，所以修改了dropout的rate，将其变大，也就是丢弃的几率变大。而且还在输出层对参数加了一个L2的正则化。但是几乎没有效果。所以我就意识到，可能不是模型的问题。然后在群上看他们聊天聊到shuffle，我恍然大悟，原来是我读出来的时候没有进行shuffle，现在就好了。"
   ]
  },
  {
   "cell_type": "code",
   "execution_count": 9,
   "metadata": {},
   "outputs": [
    {
     "data": {
      "image/png": "[encoded data removed]",
      "text/plain": [
       "<matplotlib.figure.Figure at 0x7efc4821e4e0>"
      ]
     },
     "metadata": {},
     "output_type": "display_data"
    }
   ],
   "source": [
    "import matplotlib.pyplot as plt\n",
    "\n",
    "plt.plot(hist.history['val_loss'], label=\"validation loss\")\n",
    "plt.plot(hist.history['loss'], label=\"train loss\")\n",
    "plt.ylabel('loss')\n",
    "plt.xlabel('epoch')\n",
    "plt.title(\"resnet-50\")\n",
    "plt.legend()\n",
    "plt.show()"
   ]
  },
  {
   "cell_type": "markdown",
   "metadata": {},
   "source": [
    "# 5, 预测测试集"
   ]
  },
  {
   "cell_type": "code",
   "execution_count": 10,
   "metadata": {},
   "outputs": [
    {
     "name": "stdout",
     "output_type": "stream",
     "text": [
      "Found 12500 images belonging to 1 classes.\n"
     ]
    }
   ],
   "source": [
    "import pandas as pd\n",
    "\n",
    "def get_test_result(model, test_vec_path, image_size, model_name=\"\"):\n",
    "    with h5py.File(test_vec_path, 'r') as f:\n",
    "        x_test = np.array(f['test'])\n",
    "\n",
    "    pred_test = model.predict(x_test)\n",
    "    pred_test = pred_test.clip(min=0.005, max=0.995)\n",
    "    \n",
    "    df = pd.read_csv(\"sampleSubmission.csv\")\n",
    "\n",
    "    gen = ImageDataGenerator()\n",
    "    test_generator = gen.flow_from_directory(test_link_path, image_size, color_mode='rgb',\n",
    "                                             shuffle=False, batch_size=64, class_mode=None)\n",
    "\n",
    "    for i, fname in enumerate(test_generator.filenames):\n",
    "        index = int(fname[fname.rfind('/')+1:fname.rfind('.')])\n",
    "        #df.set_value(index-1, 'label', y_pred[i])\n",
    "        df.loc[index-1, 'label'] = pred_test[i]\n",
    "    \n",
    "    df.to_csv('%s.csv' % (model_name), index=None)\n",
    "    df.head(10)\n",
    "\n",
    "get_test_result(model, resnet_50_vec_path, (224, 224), model_name=\"resnet-50\")"
   ]
  },
  {
   "cell_type": "markdown",
   "metadata": {},
   "source": [
    "# 6.改进模型\n",
    "\n",
    "提交到kaggle之后，分数为0.05518，是leaderboard的前10%。但是现在的结果不是很理想，所以我打算在此基础上添加一个全连接层，然后进行训练，看看是否能够增强模型的能力，减小训练loss和验证loss。"
   ]
  },
  {
   "cell_type": "code",
   "execution_count": 11,
   "metadata": {},
   "outputs": [
    {
     "name": "stdout",
     "output_type": "stream",
     "text": [
      "Train on 20000 samples, validate on 5000 samples\n",
      "Epoch 1/30\n",
      "20000/20000 [==============================] - 42s 2ms/step - loss: 0.0984 - acc: 0.9709 - val_loss: 0.0579 - val_acc: 0.9800\n",
      "Epoch 2/30\n",
      "20000/20000 [==============================] - 42s 2ms/step - loss: 0.0616 - acc: 0.9814 - val_loss: 0.0588 - val_acc: 0.9798\n",
      "Epoch 3/30\n",
      "20000/20000 [==============================] - 41s 2ms/step - loss: 0.0529 - acc: 0.9843 - val_loss: 0.0795 - val_acc: 0.9760\n",
      "Epoch 4/30\n",
      "20000/20000 [==============================] - 40s 2ms/step - loss: 0.0514 - acc: 0.9835 - val_loss: 0.0361 - val_acc: 0.9876\n",
      "Epoch 5/30\n",
      "20000/20000 [==============================] - 41s 2ms/step - loss: 0.0443 - acc: 0.9856 - val_loss: 0.0284 - val_acc: 0.9898\n",
      "Epoch 6/30\n",
      "20000/20000 [==============================] - 41s 2ms/step - loss: 0.0433 - acc: 0.9863 - val_loss: 0.0326 - val_acc: 0.9876\n",
      "Epoch 7/30\n",
      "20000/20000 [==============================] - 41s 2ms/step - loss: 0.0431 - acc: 0.9861 - val_loss: 0.0278 - val_acc: 0.9890\n",
      "Epoch 8/30\n",
      "20000/20000 [==============================] - 41s 2ms/step - loss: 0.0337 - acc: 0.9890 - val_loss: 0.0316 - val_acc: 0.9894\n",
      "Epoch 9/30\n",
      "20000/20000 [==============================] - 41s 2ms/step - loss: 0.0389 - acc: 0.9869 - val_loss: 0.0292 - val_acc: 0.9882\n",
      "Epoch 10/30\n",
      "20000/20000 [==============================] - 41s 2ms/step - loss: 0.0368 - acc: 0.9879 - val_loss: 0.0359 - val_acc: 0.9872\n",
      "Epoch 11/30\n",
      "20000/20000 [==============================] - 41s 2ms/step - loss: 0.0357 - acc: 0.9887 - val_loss: 0.0276 - val_acc: 0.9888\n",
      "Epoch 12/30\n",
      "20000/20000 [==============================] - 41s 2ms/step - loss: 0.0348 - acc: 0.9890 - val_loss: 0.0274 - val_acc: 0.9884\n",
      "Epoch 13/30\n",
      "20000/20000 [==============================] - 41s 2ms/step - loss: 0.0333 - acc: 0.9900 - val_loss: 0.0298 - val_acc: 0.9894\n",
      "Epoch 14/30\n",
      "20000/20000 [==============================] - 41s 2ms/step - loss: 0.0329 - acc: 0.9888 - val_loss: 0.0396 - val_acc: 0.9862\n",
      "Epoch 15/30\n",
      "20000/20000 [==============================] - 40s 2ms/step - loss: 0.0325 - acc: 0.9902 - val_loss: 0.0339 - val_acc: 0.9884\n",
      "Epoch 16/30\n",
      "20000/20000 [==============================] - 40s 2ms/step - loss: 0.0295 - acc: 0.9899 - val_loss: 0.0322 - val_acc: 0.9892\n",
      "Epoch 17/30\n",
      "20000/20000 [==============================] - 41s 2ms/step - loss: 0.0334 - acc: 0.9896 - val_loss: 0.0305 - val_acc: 0.9884\n",
      "Epoch 18/30\n",
      "20000/20000 [==============================] - 41s 2ms/step - loss: 0.0313 - acc: 0.9908 - val_loss: 0.0313 - val_acc: 0.9890\n",
      "Epoch 19/30\n",
      "20000/20000 [==============================] - 41s 2ms/step - loss: 0.0287 - acc: 0.9912 - val_loss: 0.0298 - val_acc: 0.9886\n",
      "Epoch 20/30\n",
      "20000/20000 [==============================] - 41s 2ms/step - loss: 0.0280 - acc: 0.9913 - val_loss: 0.0353 - val_acc: 0.9890\n",
      "Epoch 21/30\n",
      "20000/20000 [==============================] - 41s 2ms/step - loss: 0.0283 - acc: 0.9918 - val_loss: 0.0334 - val_acc: 0.9886\n",
      "Epoch 22/30\n",
      "20000/20000 [==============================] - 40s 2ms/step - loss: 0.0273 - acc: 0.9920 - val_loss: 0.0293 - val_acc: 0.9886\n",
      "Epoch 23/30\n",
      "20000/20000 [==============================] - 41s 2ms/step - loss: 0.0271 - acc: 0.9920 - val_loss: 0.0346 - val_acc: 0.9898\n",
      "Epoch 24/30\n",
      "20000/20000 [==============================] - 40s 2ms/step - loss: 0.0259 - acc: 0.9922 - val_loss: 0.0329 - val_acc: 0.9886\n",
      "Epoch 25/30\n",
      "20000/20000 [==============================] - 41s 2ms/step - loss: 0.0268 - acc: 0.9914 - val_loss: 0.0436 - val_acc: 0.9878\n",
      "Epoch 26/30\n",
      "20000/20000 [==============================] - 41s 2ms/step - loss: 0.0280 - acc: 0.9924 - val_loss: 0.0316 - val_acc: 0.9886\n",
      "Epoch 27/30\n",
      "20000/20000 [==============================] - 41s 2ms/step - loss: 0.0234 - acc: 0.9929 - val_loss: 0.0294 - val_acc: 0.9890\n",
      "Epoch 28/30\n",
      "20000/20000 [==============================] - 41s 2ms/step - loss: 0.0238 - acc: 0.9932 - val_loss: 0.0338 - val_acc: 0.9894\n",
      "Epoch 29/30\n",
      "20000/20000 [==============================] - 41s 2ms/step - loss: 0.0209 - acc: 0.9945 - val_loss: 0.0386 - val_acc: 0.9888\n",
      "Epoch 30/30\n",
      "20000/20000 [==============================] - 42s 2ms/step - loss: 0.0234 - acc: 0.9929 - val_loss: 0.0373 - val_acc: 0.9882\n"
     ]
    }
   ],
   "source": [
    "input_tensor = Input(shape=(2048,))\n",
    "x = Dropout(0.5)(input_tensor)\n",
    "x = Dense(1024, activation='relu', name='res_dense_1')(x)\n",
    "x = Dropout(0.5)(x)\n",
    "x = Dense(1, activation='sigmoid', name='res_dense_2')(x)\n",
    "\n",
    "model = Model(inputs=input_tensor, outputs=x)\n",
    "\n",
    "model.compile(optimizer='adadelta', loss='binary_crossentropy', metrics=['accuracy'])\n",
    "\n",
    "hist = model.fit(x_train, y_train, batch_size=32, epochs=30, validation_split=0.2)"
   ]
  },
  {
   "cell_type": "code",
   "execution_count": 12,
   "metadata": {},
   "outputs": [
    {
     "data": {
      "image/png": "[encoded data removed]",
      "text/plain": [
       "<matplotlib.figure.Figure at 0x7efc33d3f470>"
      ]
     },
     "metadata": {},
     "output_type": "display_data"
    }
   ],
   "source": [
    "plt.plot(hist.history['val_loss'], label=\"validation loss\")\n",
    "plt.plot(hist.history['loss'], label=\"train loss\")\n",
    "plt.ylabel('loss')\n",
    "plt.xlabel('epoch')\n",
    "plt.title(\"resnet-50\")\n",
    "plt.legend()\n",
    "plt.show()"
   ]
  },
  {
   "cell_type": "markdown",
   "metadata": {},
   "source": [
    "该模型在20 epoch左右时，其训练loss和验证loss都是比较小的，但是随着训练的深入，模型出现了明显的过拟合，所以我们应该加入一些措施来减少过拟合。比如对全连接层的参数添加L2正则项，或者更大的dropout rate。我们现在都来试一下。"
   ]
  },
  {
   "cell_type": "code",
   "execution_count": 13,
   "metadata": {},
   "outputs": [
    {
     "name": "stdout",
     "output_type": "stream",
     "text": [
      "Train on 20000 samples, validate on 5000 samples\n",
      "Epoch 1/30\n",
      "20000/20000 [==============================] - 52s 3ms/step - loss: 1.7181 - acc: 0.9647 - val_loss: 0.1539 - val_acc: 0.9858\n",
      "Epoch 2/30\n",
      "20000/20000 [==============================] - 52s 3ms/step - loss: 0.1573 - acc: 0.9738 - val_loss: 0.1102 - val_acc: 0.9864\n",
      "Epoch 3/30\n",
      "20000/20000 [==============================] - 50s 3ms/step - loss: 0.1372 - acc: 0.9748 - val_loss: 0.1152 - val_acc: 0.9822\n",
      "Epoch 4/30\n",
      "20000/20000 [==============================] - 51s 3ms/step - loss: 0.1295 - acc: 0.9761 - val_loss: 0.0981 - val_acc: 0.9858\n",
      "Epoch 5/30\n",
      "20000/20000 [==============================] - 52s 3ms/step - loss: 0.1251 - acc: 0.9762 - val_loss: 0.0944 - val_acc: 0.9870\n",
      "Epoch 6/30\n",
      "20000/20000 [==============================] - 50s 3ms/step - loss: 0.1202 - acc: 0.9768 - val_loss: 0.1045 - val_acc: 0.9832\n",
      "Epoch 7/30\n",
      "20000/20000 [==============================] - 50s 2ms/step - loss: 0.1237 - acc: 0.9757 - val_loss: 0.0916 - val_acc: 0.9850\n",
      "Epoch 8/30\n",
      "20000/20000 [==============================] - 50s 2ms/step - loss: 0.1179 - acc: 0.9768 - val_loss: 0.0879 - val_acc: 0.9870\n",
      "Epoch 9/30\n",
      "20000/20000 [==============================] - 50s 2ms/step - loss: 0.1174 - acc: 0.9765 - val_loss: 0.0869 - val_acc: 0.9884\n",
      "Epoch 10/30\n",
      "20000/20000 [==============================] - 50s 2ms/step - loss: 0.1185 - acc: 0.9772 - val_loss: 0.0860 - val_acc: 0.9876\n",
      "Epoch 11/30\n",
      "20000/20000 [==============================] - 50s 3ms/step - loss: 0.1179 - acc: 0.9763 - val_loss: 0.1121 - val_acc: 0.9778\n",
      "Epoch 12/30\n",
      "20000/20000 [==============================] - 50s 3ms/step - loss: 0.1165 - acc: 0.9765 - val_loss: 0.0864 - val_acc: 0.9884\n",
      "Epoch 13/30\n",
      "20000/20000 [==============================] - 50s 2ms/step - loss: 0.1143 - acc: 0.9772 - val_loss: 0.0836 - val_acc: 0.9874\n",
      "Epoch 14/30\n",
      "20000/20000 [==============================] - 50s 3ms/step - loss: 0.1146 - acc: 0.9770 - val_loss: 0.0834 - val_acc: 0.9886\n",
      "Epoch 15/30\n",
      "20000/20000 [==============================] - 51s 3ms/step - loss: 0.1152 - acc: 0.9777 - val_loss: 0.0877 - val_acc: 0.9828\n",
      "Epoch 16/30\n",
      "20000/20000 [==============================] - 52s 3ms/step - loss: 0.1122 - acc: 0.9775 - val_loss: 0.0989 - val_acc: 0.9822\n",
      "Epoch 17/30\n",
      "20000/20000 [==============================] - 50s 2ms/step - loss: 0.1157 - acc: 0.9768 - val_loss: 0.0842 - val_acc: 0.9874\n",
      "Epoch 18/30\n",
      "20000/20000 [==============================] - 50s 2ms/step - loss: 0.1143 - acc: 0.9763 - val_loss: 0.0800 - val_acc: 0.9878\n",
      "Epoch 19/30\n",
      "20000/20000 [==============================] - 50s 3ms/step - loss: 0.1144 - acc: 0.9777 - val_loss: 0.0828 - val_acc: 0.9888\n",
      "Epoch 20/30\n",
      "20000/20000 [==============================] - 50s 2ms/step - loss: 0.1121 - acc: 0.9783 - val_loss: 0.0874 - val_acc: 0.9864\n",
      "Epoch 21/30\n",
      "20000/20000 [==============================] - 50s 3ms/step - loss: 0.1128 - acc: 0.9774 - val_loss: 0.0944 - val_acc: 0.9842\n",
      "Epoch 22/30\n",
      "20000/20000 [==============================] - 50s 3ms/step - loss: 0.1116 - acc: 0.9785 - val_loss: 0.0962 - val_acc: 0.9798\n",
      "Epoch 23/30\n",
      "20000/20000 [==============================] - 50s 3ms/step - loss: 0.1102 - acc: 0.9789 - val_loss: 0.0832 - val_acc: 0.9848\n",
      "Epoch 24/30\n",
      "20000/20000 [==============================] - 50s 2ms/step - loss: 0.1103 - acc: 0.9780 - val_loss: 0.0822 - val_acc: 0.9852\n",
      "Epoch 25/30\n",
      "20000/20000 [==============================] - 50s 2ms/step - loss: 0.1111 - acc: 0.9779 - val_loss: 0.0811 - val_acc: 0.9886\n",
      "Epoch 26/30\n",
      "20000/20000 [==============================] - 50s 2ms/step - loss: 0.1088 - acc: 0.9775 - val_loss: 0.0809 - val_acc: 0.9880\n",
      "Epoch 27/30\n",
      "20000/20000 [==============================] - 50s 2ms/step - loss: 0.1115 - acc: 0.9780 - val_loss: 0.0836 - val_acc: 0.9868\n",
      "Epoch 28/30\n",
      "20000/20000 [==============================] - 50s 3ms/step - loss: 0.1143 - acc: 0.9773 - val_loss: 0.0858 - val_acc: 0.9842\n",
      "Epoch 29/30\n",
      "20000/20000 [==============================] - 50s 2ms/step - loss: 0.1111 - acc: 0.9771 - val_loss: 0.0872 - val_acc: 0.9846\n",
      "Epoch 30/30\n",
      "20000/20000 [==============================] - 50s 3ms/step - loss: 0.1107 - acc: 0.9775 - val_loss: 0.0781 - val_acc: 0.9884\n"
     ]
    }
   ],
   "source": [
    "from keras import regularizers\n",
    "\n",
    "input_tensor = Input(shape=(2048,))\n",
    "x = Dropout(0.6)(input_tensor)\n",
    "x = Dense(1024, activation='relu', name='res_dense_1', kernel_regularizer=regularizers.l2(0.01))(x)\n",
    "x = Dropout(0.5)(x)\n",
    "x = Dense(1, activation='sigmoid', name='res_dense_2', kernel_regularizer=regularizers.l2(0.01))(x)\n",
    "\n",
    "model = Model(inputs=input_tensor, outputs=x)\n",
    "\n",
    "model.compile(optimizer='adadelta', loss='binary_crossentropy', metrics=['accuracy'])\n",
    "\n",
    "hist = model.fit(x_train, y_train, batch_size=32, epochs=30, validation_split=0.2)"
   ]
  },
  {
   "cell_type": "code",
   "execution_count": 14,
   "metadata": {},
   "outputs": [
    {
     "data": {
      "image/png": "[encoded data removed]",
      "text/plain": [
       "<matplotlib.figure.Figure at 0x7efc30f66d68>"
      ]
     },
     "metadata": {},
     "output_type": "display_data"
    }
   ],
   "source": [
    "plt.plot(hist.history['val_loss'], label=\"validation loss\")\n",
    "plt.plot(hist.history['loss'], label=\"train loss\")\n",
    "plt.ylabel('loss')\n",
    "plt.xlabel('epoch')\n",
    "plt.title(\"resnet-50\")\n",
    "plt.legend()\n",
    "plt.show()"
   ]
  },
  {
   "cell_type": "code",
   "execution_count": 15,
   "metadata": {},
   "outputs": [
    {
     "name": "stdout",
     "output_type": "stream",
     "text": [
      "Train on 20000 samples, validate on 5000 samples\n",
      "Epoch 1/30\n",
      "20000/20000 [==============================] - 51s 3ms/step - loss: 1.3576 - acc: 0.9678 - val_loss: 0.1630 - val_acc: 0.9888\n",
      "Epoch 2/30\n",
      "20000/20000 [==============================] - 49s 2ms/step - loss: 0.1453 - acc: 0.9758 - val_loss: 0.0883 - val_acc: 0.9882\n",
      "Epoch 3/30\n",
      "20000/20000 [==============================] - 49s 2ms/step - loss: 0.1135 - acc: 0.9773 - val_loss: 0.0834 - val_acc: 0.9874\n",
      "Epoch 4/30\n",
      "20000/20000 [==============================] - 49s 2ms/step - loss: 0.1066 - acc: 0.9784 - val_loss: 0.1149 - val_acc: 0.9754\n",
      "Epoch 5/30\n",
      "20000/20000 [==============================] - 50s 3ms/step - loss: 0.1036 - acc: 0.9778 - val_loss: 0.0763 - val_acc: 0.9858\n",
      "Epoch 6/30\n",
      "20000/20000 [==============================] - 49s 2ms/step - loss: 0.1003 - acc: 0.9781 - val_loss: 0.0779 - val_acc: 0.9856\n",
      "Epoch 7/30\n",
      "20000/20000 [==============================] - 49s 2ms/step - loss: 0.0962 - acc: 0.9804 - val_loss: 0.0712 - val_acc: 0.9876\n",
      "Epoch 8/30\n",
      "20000/20000 [==============================] - 49s 2ms/step - loss: 0.0964 - acc: 0.9800 - val_loss: 0.0727 - val_acc: 0.9862\n",
      "Epoch 9/30\n",
      "20000/20000 [==============================] - 48s 2ms/step - loss: 0.0946 - acc: 0.9802 - val_loss: 0.0704 - val_acc: 0.9884\n",
      "Epoch 10/30\n",
      "20000/20000 [==============================] - 49s 2ms/step - loss: 0.0959 - acc: 0.9789 - val_loss: 0.0856 - val_acc: 0.9818\n",
      "Epoch 11/30\n",
      "20000/20000 [==============================] - 48s 2ms/step - loss: 0.0936 - acc: 0.9789 - val_loss: 0.0746 - val_acc: 0.9852\n",
      "Epoch 12/30\n",
      "20000/20000 [==============================] - 48s 2ms/step - loss: 0.0907 - acc: 0.9797 - val_loss: 0.0690 - val_acc: 0.9878\n",
      "Epoch 13/30\n",
      "20000/20000 [==============================] - 49s 2ms/step - loss: 0.0897 - acc: 0.9809 - val_loss: 0.0752 - val_acc: 0.9854\n",
      "Epoch 14/30\n",
      "20000/20000 [==============================] - 49s 2ms/step - loss: 0.0891 - acc: 0.9818 - val_loss: 0.0677 - val_acc: 0.9888\n",
      "Epoch 15/30\n",
      "20000/20000 [==============================] - 49s 2ms/step - loss: 0.0889 - acc: 0.9802 - val_loss: 0.0651 - val_acc: 0.9886\n",
      "Epoch 16/30\n",
      "20000/20000 [==============================] - 49s 2ms/step - loss: 0.0880 - acc: 0.9815 - val_loss: 0.0723 - val_acc: 0.9856\n",
      "Epoch 17/30\n",
      "20000/20000 [==============================] - 49s 2ms/step - loss: 0.0883 - acc: 0.9799 - val_loss: 0.0654 - val_acc: 0.9896\n",
      "Epoch 18/30\n",
      "20000/20000 [==============================] - 49s 2ms/step - loss: 0.0906 - acc: 0.9794 - val_loss: 0.0694 - val_acc: 0.9864\n",
      "Epoch 19/30\n",
      "20000/20000 [==============================] - 49s 2ms/step - loss: 0.0858 - acc: 0.9823 - val_loss: 0.0647 - val_acc: 0.9886\n",
      "Epoch 20/30\n",
      "20000/20000 [==============================] - 49s 2ms/step - loss: 0.0890 - acc: 0.9802 - val_loss: 0.0683 - val_acc: 0.9866\n",
      "Epoch 21/30\n",
      "20000/20000 [==============================] - 49s 2ms/step - loss: 0.0855 - acc: 0.9814 - val_loss: 0.0693 - val_acc: 0.9866\n",
      "Epoch 22/30\n",
      "20000/20000 [==============================] - 49s 2ms/step - loss: 0.0877 - acc: 0.9814 - val_loss: 0.0732 - val_acc: 0.9846\n",
      "Epoch 23/30\n",
      "20000/20000 [==============================] - 49s 2ms/step - loss: 0.0861 - acc: 0.9808 - val_loss: 0.0638 - val_acc: 0.9888\n",
      "Epoch 24/30\n",
      "20000/20000 [==============================] - 49s 2ms/step - loss: 0.0869 - acc: 0.9816 - val_loss: 0.0645 - val_acc: 0.9890\n",
      "Epoch 25/30\n",
      "20000/20000 [==============================] - 49s 2ms/step - loss: 0.0868 - acc: 0.9816 - val_loss: 0.0640 - val_acc: 0.9884\n",
      "Epoch 26/30\n",
      "20000/20000 [==============================] - 49s 2ms/step - loss: 0.0900 - acc: 0.9804 - val_loss: 0.0721 - val_acc: 0.9850\n",
      "Epoch 27/30\n",
      "20000/20000 [==============================] - 49s 2ms/step - loss: 0.0857 - acc: 0.9819 - val_loss: 0.0637 - val_acc: 0.9872\n",
      "Epoch 28/30\n",
      "20000/20000 [==============================] - 50s 2ms/step - loss: 0.0863 - acc: 0.9815 - val_loss: 0.0656 - val_acc: 0.9898\n",
      "Epoch 29/30\n",
      "20000/20000 [==============================] - 51s 3ms/step - loss: 0.0843 - acc: 0.9813 - val_loss: 0.0719 - val_acc: 0.9846\n",
      "Epoch 30/30\n",
      "20000/20000 [==============================] - 49s 2ms/step - loss: 0.0851 - acc: 0.9808 - val_loss: 0.0841 - val_acc: 0.9770\n"
     ]
    }
   ],
   "source": [
    "from keras import regularizers\n",
    "\n",
    "input_tensor = Input(shape=(2048,))\n",
    "x = Dropout(0.5)(input_tensor)\n",
    "x = Dense(1024, activation='relu', name='res_dense_1', kernel_regularizer=regularizers.l2(0.005))(x)\n",
    "x = Dropout(0.5)(x)\n",
    "x = Dense(1, activation='sigmoid', name='res_dense_2', kernel_regularizer=regularizers.l2(0.005))(x)\n",
    "\n",
    "model = Model(inputs=input_tensor, outputs=x)\n",
    "\n",
    "model.compile(optimizer='adadelta', loss='binary_crossentropy', metrics=['accuracy'])\n",
    "\n",
    "hist = model.fit(x_train, y_train, batch_size=32, epochs=30, validation_split=0.2)"
   ]
  },
  {
   "cell_type": "code",
   "execution_count": 16,
   "metadata": {},
   "outputs": [
    {
     "data": {
      "image/png": "[encoded data removed]",
      "text/plain": [
       "<matplotlib.figure.Figure at 0x7efc313b3198>"
      ]
     },
     "metadata": {},
     "output_type": "display_data"
    }
   ],
   "source": [
    "plt.plot(hist.history['val_loss'], label=\"validation loss\")\n",
    "plt.plot(hist.history['loss'], label=\"train loss\")\n",
    "plt.ylabel('loss')\n",
    "plt.xlabel('epoch')\n",
    "plt.title(\"resnet-50\")\n",
    "plt.legend()\n",
    "plt.show()"
   ]
  },
  {
   "cell_type": "code",
   "execution_count": 19,
   "metadata": {},
   "outputs": [
    {
     "name": "stdout",
     "output_type": "stream",
     "text": [
      "Train on 20000 samples, validate on 5000 samples\n",
      "Epoch 1/30\n",
      "20000/20000 [==============================] - 51s 3ms/step - loss: 1.0113 - acc: 0.9709 - val_loss: 0.2269 - val_acc: 0.9882\n",
      "Epoch 2/30\n",
      "20000/20000 [==============================] - 50s 2ms/step - loss: 0.1591 - acc: 0.9799 - val_loss: 0.0837 - val_acc: 0.9886\n",
      "Epoch 3/30\n",
      "20000/20000 [==============================] - 50s 2ms/step - loss: 0.0989 - acc: 0.9806 - val_loss: 0.0692 - val_acc: 0.9876\n",
      "Epoch 4/30\n",
      "20000/20000 [==============================] - 51s 3ms/step - loss: 0.0853 - acc: 0.9810 - val_loss: 0.0610 - val_acc: 0.9880\n",
      "Epoch 5/30\n",
      "20000/20000 [==============================] - 51s 3ms/step - loss: 0.0798 - acc: 0.9811 - val_loss: 0.0559 - val_acc: 0.9890\n",
      "Epoch 6/30\n",
      "20000/20000 [==============================] - 51s 3ms/step - loss: 0.0734 - acc: 0.9836 - val_loss: 0.0572 - val_acc: 0.9882\n",
      "Epoch 7/30\n",
      "20000/20000 [==============================] - 51s 3ms/step - loss: 0.0728 - acc: 0.9824 - val_loss: 0.0532 - val_acc: 0.9894\n",
      "Epoch 8/30\n",
      "20000/20000 [==============================] - 51s 3ms/step - loss: 0.0700 - acc: 0.9837 - val_loss: 0.0532 - val_acc: 0.9888\n",
      "Epoch 9/30\n",
      "20000/20000 [==============================] - 51s 3ms/step - loss: 0.0675 - acc: 0.9831 - val_loss: 0.0543 - val_acc: 0.9876\n",
      "Epoch 10/30\n",
      "20000/20000 [==============================] - 51s 3ms/step - loss: 0.0666 - acc: 0.9838 - val_loss: 0.0708 - val_acc: 0.9800\n",
      "Epoch 11/30\n",
      "20000/20000 [==============================] - 51s 3ms/step - loss: 0.0666 - acc: 0.9830 - val_loss: 0.0536 - val_acc: 0.9872\n",
      "Epoch 12/30\n",
      "20000/20000 [==============================] - 51s 3ms/step - loss: 0.0651 - acc: 0.9836 - val_loss: 0.0503 - val_acc: 0.9886\n",
      "Epoch 13/30\n",
      "20000/20000 [==============================] - 51s 3ms/step - loss: 0.0648 - acc: 0.9833 - val_loss: 0.0476 - val_acc: 0.9890\n",
      "Epoch 14/30\n",
      "20000/20000 [==============================] - 51s 3ms/step - loss: 0.0641 - acc: 0.9842 - val_loss: 0.0489 - val_acc: 0.9890\n",
      "Epoch 15/30\n",
      "20000/20000 [==============================] - 51s 3ms/step - loss: 0.0615 - acc: 0.9844 - val_loss: 0.0549 - val_acc: 0.9852\n",
      "Epoch 16/30\n",
      "20000/20000 [==============================] - 52s 3ms/step - loss: 0.0645 - acc: 0.9841 - val_loss: 0.0488 - val_acc: 0.9882\n",
      "Epoch 17/30\n",
      "20000/20000 [==============================] - 54s 3ms/step - loss: 0.0613 - acc: 0.9849 - val_loss: 0.0530 - val_acc: 0.9866\n",
      "Epoch 18/30\n",
      "20000/20000 [==============================] - 54s 3ms/step - loss: 0.0619 - acc: 0.9834 - val_loss: 0.0616 - val_acc: 0.9824\n",
      "Epoch 19/30\n",
      "20000/20000 [==============================] - 53s 3ms/step - loss: 0.0626 - acc: 0.9835 - val_loss: 0.0490 - val_acc: 0.9888\n",
      "Epoch 20/30\n",
      "20000/20000 [==============================] - 55s 3ms/step - loss: 0.0587 - acc: 0.9854 - val_loss: 0.0538 - val_acc: 0.9856\n",
      "Epoch 21/30\n",
      "20000/20000 [==============================] - 54s 3ms/step - loss: 0.0592 - acc: 0.9850 - val_loss: 0.0538 - val_acc: 0.9860\n",
      "Epoch 22/30\n",
      "20000/20000 [==============================] - 53s 3ms/step - loss: 0.0597 - acc: 0.9848 - val_loss: 0.0648 - val_acc: 0.9840\n",
      "Epoch 23/30\n",
      "20000/20000 [==============================] - 53s 3ms/step - loss: 0.0611 - acc: 0.9848 - val_loss: 0.0461 - val_acc: 0.9892\n",
      "Epoch 24/30\n",
      "20000/20000 [==============================] - 53s 3ms/step - loss: 0.0604 - acc: 0.9832 - val_loss: 0.0463 - val_acc: 0.9898\n",
      "Epoch 25/30\n",
      "20000/20000 [==============================] - 53s 3ms/step - loss: 0.0603 - acc: 0.9842 - val_loss: 0.0465 - val_acc: 0.9880\n",
      "Epoch 26/30\n",
      "20000/20000 [==============================] - 53s 3ms/step - loss: 0.0560 - acc: 0.9864 - val_loss: 0.0572 - val_acc: 0.9848\n",
      "Epoch 27/30\n",
      "20000/20000 [==============================] - 53s 3ms/step - loss: 0.0590 - acc: 0.9842 - val_loss: 0.0436 - val_acc: 0.9892\n",
      "Epoch 28/30\n",
      "20000/20000 [==============================] - 54s 3ms/step - loss: 0.0586 - acc: 0.9851 - val_loss: 0.0457 - val_acc: 0.9896\n",
      "Epoch 29/30\n",
      "20000/20000 [==============================] - 53s 3ms/step - loss: 0.0562 - acc: 0.9856 - val_loss: 0.0467 - val_acc: 0.9888\n",
      "Epoch 30/30\n",
      "20000/20000 [==============================] - 53s 3ms/step - loss: 0.0595 - acc: 0.9849 - val_loss: 0.0489 - val_acc: 0.9882\n"
     ]
    }
   ],
   "source": [
    "from keras import regularizers\n",
    "\n",
    "input_tensor = Input(shape=(2048,))\n",
    "x = Dropout(0.4)(input_tensor)\n",
    "x = Dense(1024, activation='relu', name='res_dense_1', kernel_regularizer=regularizers.l2(0.002))(x)\n",
    "x = Dropout(0.4)(x)\n",
    "x = Dense(1, activation='sigmoid', name='res_dense_2')(x)\n",
    "\n",
    "model = Model(inputs=input_tensor, outputs=x)\n",
    "\n",
    "model.compile(optimizer='adadelta', loss='binary_crossentropy', metrics=['accuracy'])\n",
    "\n",
    "hist = model.fit(x_train, y_train, batch_size=32, epochs=30, validation_split=0.2)"
   ]
  },
  {
   "cell_type": "code",
   "execution_count": 20,
   "metadata": {},
   "outputs": [
    {
     "data": {
      "image/png": "[encoded data removed]",
      "text/plain": [
       "<matplotlib.figure.Figure at 0x7efc3196c940>"
      ]
     },
     "metadata": {},
     "output_type": "display_data"
    }
   ],
   "source": [
    "plt.plot(hist.history['val_loss'], label=\"validation loss\")\n",
    "plt.plot(hist.history['loss'], label=\"train loss\")\n",
    "plt.ylabel('loss')\n",
    "plt.xlabel('epoch')\n",
    "plt.title(\"resnet-50\")\n",
    "plt.legend()\n",
    "plt.show()"
   ]
  },
  {
   "cell_type": "code",
   "execution_count": 21,
   "metadata": {},
   "outputs": [
    {
     "name": "stdout",
     "output_type": "stream",
     "text": [
      "Train on 20000 samples, validate on 5000 samples\n",
      "Epoch 1/30\n",
      "20000/20000 [==============================] - 51s 3ms/step - loss: 0.7233 - acc: 0.9722 - val_loss: 0.3595 - val_acc: 0.9842\n",
      "Epoch 2/30\n",
      "20000/20000 [==============================] - 50s 2ms/step - loss: 0.2401 - acc: 0.9806 - val_loss: 0.1276 - val_acc: 0.9908\n",
      "Epoch 3/30\n",
      "20000/20000 [==============================] - 50s 3ms/step - loss: 0.1272 - acc: 0.9790 - val_loss: 0.0792 - val_acc: 0.9884\n",
      "Epoch 4/30\n",
      "20000/20000 [==============================] - 50s 2ms/step - loss: 0.0920 - acc: 0.9820 - val_loss: 0.0625 - val_acc: 0.9884\n",
      "Epoch 5/30\n",
      "20000/20000 [==============================] - 50s 2ms/step - loss: 0.0800 - acc: 0.9834 - val_loss: 0.0596 - val_acc: 0.9870\n",
      "Epoch 6/30\n",
      "20000/20000 [==============================] - 50s 2ms/step - loss: 0.0723 - acc: 0.9843 - val_loss: 0.0698 - val_acc: 0.9820\n",
      "Epoch 7/30\n",
      "20000/20000 [==============================] - 50s 2ms/step - loss: 0.0706 - acc: 0.9836 - val_loss: 0.0502 - val_acc: 0.9896\n",
      "Epoch 8/30\n",
      "20000/20000 [==============================] - 50s 3ms/step - loss: 0.0698 - acc: 0.9833 - val_loss: 0.0492 - val_acc: 0.9900\n",
      "Epoch 9/30\n",
      "20000/20000 [==============================] - 50s 3ms/step - loss: 0.0662 - acc: 0.9831 - val_loss: 0.0599 - val_acc: 0.9828\n",
      "Epoch 10/30\n",
      "20000/20000 [==============================] - 50s 2ms/step - loss: 0.0640 - acc: 0.9851 - val_loss: 0.0521 - val_acc: 0.9872\n",
      "Epoch 11/30\n",
      "20000/20000 [==============================] - 51s 3ms/step - loss: 0.0617 - acc: 0.9843 - val_loss: 0.0461 - val_acc: 0.9896\n",
      "Epoch 12/30\n",
      "20000/20000 [==============================] - 50s 2ms/step - loss: 0.0603 - acc: 0.9851 - val_loss: 0.0489 - val_acc: 0.9890\n",
      "Epoch 13/30\n",
      "20000/20000 [==============================] - 51s 3ms/step - loss: 0.0627 - acc: 0.9851 - val_loss: 0.0481 - val_acc: 0.9884\n",
      "Epoch 14/30\n",
      "19968/20000 [============================>.] - ETA: 0s - loss: 0.0636 - acc: 0.9843"
     ]
    },
    {
     "ename": "KeyboardInterrupt",
     "evalue": "",
     "output_type": "error",
     "traceback": [
      "\u001b[0;31m---------------------------------------------------------------------------\u001b[0m",
      "\u001b[0;31mKeyboardInterrupt\u001b[0m                         Traceback (most recent call last)",
      "\u001b[0;32m<ipython-input-21-2768f843f39a>\u001b[0m in \u001b[0;36m<module>\u001b[0;34m()\u001b[0m\n\u001b[1;32m     11\u001b[0m \u001b[0mmodel\u001b[0m\u001b[0;34m.\u001b[0m\u001b[0mcompile\u001b[0m\u001b[0;34m(\u001b[0m\u001b[0moptimizer\u001b[0m\u001b[0;34m=\u001b[0m\u001b[0;34m'adadelta'\u001b[0m\u001b[0;34m,\u001b[0m \u001b[0mloss\u001b[0m\u001b[0;34m=\u001b[0m\u001b[0;34m'binary_crossentropy'\u001b[0m\u001b[0;34m,\u001b[0m \u001b[0mmetrics\u001b[0m\u001b[0;34m=\u001b[0m\u001b[0;34m[\u001b[0m\u001b[0;34m'accuracy'\u001b[0m\u001b[0;34m]\u001b[0m\u001b[0;34m)\u001b[0m\u001b[0;34m\u001b[0m\u001b[0m\n\u001b[1;32m     12\u001b[0m \u001b[0;34m\u001b[0m\u001b[0m\n\u001b[0;32m---> 13\u001b[0;31m \u001b[0mhist\u001b[0m \u001b[0;34m=\u001b[0m \u001b[0mmodel\u001b[0m\u001b[0;34m.\u001b[0m\u001b[0mfit\u001b[0m\u001b[0;34m(\u001b[0m\u001b[0mx_train\u001b[0m\u001b[0;34m,\u001b[0m \u001b[0my_train\u001b[0m\u001b[0;34m,\u001b[0m \u001b[0mbatch_size\u001b[0m\u001b[0;34m=\u001b[0m\u001b[0;36m32\u001b[0m\u001b[0;34m,\u001b[0m \u001b[0mepochs\u001b[0m\u001b[0;34m=\u001b[0m\u001b[0;36m30\u001b[0m\u001b[0;34m,\u001b[0m \u001b[0mvalidation_split\u001b[0m\u001b[0;34m=\u001b[0m\u001b[0;36m0.2\u001b[0m\u001b[0;34m)\u001b[0m\u001b[0;34m\u001b[0m\u001b[0m\n\u001b[0m",
      "\u001b[0;32m~/anaconda3/envs/py3/lib/python3.6/site-packages/keras/engine/training.py\u001b[0m in \u001b[0;36mfit\u001b[0;34m(self, x, y, batch_size, epochs, verbose, callbacks, validation_split, validation_data, shuffle, class_weight, sample_weight, initial_epoch, steps_per_epoch, validation_steps, **kwargs)\u001b[0m\n\u001b[1;32m   1703\u001b[0m                               \u001b[0minitial_epoch\u001b[0m\u001b[0;34m=\u001b[0m\u001b[0minitial_epoch\u001b[0m\u001b[0;34m,\u001b[0m\u001b[0;34m\u001b[0m\u001b[0m\n\u001b[1;32m   1704\u001b[0m                               \u001b[0msteps_per_epoch\u001b[0m\u001b[0;34m=\u001b[0m\u001b[0msteps_per_epoch\u001b[0m\u001b[0;34m,\u001b[0m\u001b[0;34m\u001b[0m\u001b[0m\n\u001b[0;32m-> 1705\u001b[0;31m                               validation_steps=validation_steps)\n\u001b[0m\u001b[1;32m   1706\u001b[0m \u001b[0;34m\u001b[0m\u001b[0m\n\u001b[1;32m   1707\u001b[0m     def evaluate(self, x=None, y=None,\n",
      "\u001b[0;32m~/anaconda3/envs/py3/lib/python3.6/site-packages/keras/engine/training.py\u001b[0m in \u001b[0;36m_fit_loop\u001b[0;34m(self, f, ins, out_labels, batch_size, epochs, verbose, callbacks, val_f, val_ins, shuffle, callback_metrics, initial_epoch, steps_per_epoch, validation_steps)\u001b[0m\n\u001b[1;32m   1247\u001b[0m                             val_outs = self._test_loop(val_f, val_ins,\n\u001b[1;32m   1248\u001b[0m                                                        \u001b[0mbatch_size\u001b[0m\u001b[0;34m=\u001b[0m\u001b[0mbatch_size\u001b[0m\u001b[0;34m,\u001b[0m\u001b[0;34m\u001b[0m\u001b[0m\n\u001b[0;32m-> 1249\u001b[0;31m                                                        verbose=0)\n\u001b[0m\u001b[1;32m   1250\u001b[0m                             \u001b[0;32mif\u001b[0m \u001b[0;32mnot\u001b[0m \u001b[0misinstance\u001b[0m\u001b[0;34m(\u001b[0m\u001b[0mval_outs\u001b[0m\u001b[0;34m,\u001b[0m \u001b[0mlist\u001b[0m\u001b[0;34m)\u001b[0m\u001b[0;34m:\u001b[0m\u001b[0;34m\u001b[0m\u001b[0m\n\u001b[1;32m   1251\u001b[0m                                 \u001b[0mval_outs\u001b[0m \u001b[0;34m=\u001b[0m \u001b[0;34m[\u001b[0m\u001b[0mval_outs\u001b[0m\u001b[0;34m]\u001b[0m\u001b[0;34m\u001b[0m\u001b[0m\n",
      "\u001b[0;32m~/anaconda3/envs/py3/lib/python3.6/site-packages/keras/engine/training.py\u001b[0m in \u001b[0;36m_test_loop\u001b[0;34m(self, f, ins, batch_size, verbose, steps)\u001b[0m\n\u001b[1;32m   1424\u001b[0m                     \u001b[0mins_batch\u001b[0m\u001b[0;34m[\u001b[0m\u001b[0mi\u001b[0m\u001b[0;34m]\u001b[0m \u001b[0;34m=\u001b[0m \u001b[0mins_batch\u001b[0m\u001b[0;34m[\u001b[0m\u001b[0mi\u001b[0m\u001b[0;34m]\u001b[0m\u001b[0;34m.\u001b[0m\u001b[0mtoarray\u001b[0m\u001b[0;34m(\u001b[0m\u001b[0;34m)\u001b[0m\u001b[0;34m\u001b[0m\u001b[0m\n\u001b[1;32m   1425\u001b[0m \u001b[0;34m\u001b[0m\u001b[0m\n\u001b[0;32m-> 1426\u001b[0;31m                 \u001b[0mbatch_outs\u001b[0m \u001b[0;34m=\u001b[0m \u001b[0mf\u001b[0m\u001b[0;34m(\u001b[0m\u001b[0mins_batch\u001b[0m\u001b[0;34m)\u001b[0m\u001b[0;34m\u001b[0m\u001b[0m\n\u001b[0m\u001b[1;32m   1427\u001b[0m                 \u001b[0;32mif\u001b[0m \u001b[0misinstance\u001b[0m\u001b[0;34m(\u001b[0m\u001b[0mbatch_outs\u001b[0m\u001b[0;34m,\u001b[0m \u001b[0mlist\u001b[0m\u001b[0;34m)\u001b[0m\u001b[0;34m:\u001b[0m\u001b[0;34m\u001b[0m\u001b[0m\n\u001b[1;32m   1428\u001b[0m                     \u001b[0;32mif\u001b[0m \u001b[0mbatch_index\u001b[0m \u001b[0;34m==\u001b[0m \u001b[0;36m0\u001b[0m\u001b[0;34m:\u001b[0m\u001b[0;34m\u001b[0m\u001b[0m\n",
      "\u001b[0;32m~/anaconda3/envs/py3/lib/python3.6/site-packages/keras/backend/tensorflow_backend.py\u001b[0m in \u001b[0;36m__call__\u001b[0;34m(self, inputs)\u001b[0m\n\u001b[1;32m   2476\u001b[0m         \u001b[0msession\u001b[0m \u001b[0;34m=\u001b[0m \u001b[0mget_session\u001b[0m\u001b[0;34m(\u001b[0m\u001b[0;34m)\u001b[0m\u001b[0;34m\u001b[0m\u001b[0m\n\u001b[1;32m   2477\u001b[0m         updated = session.run(fetches=fetches, feed_dict=feed_dict,\n\u001b[0;32m-> 2478\u001b[0;31m                               **self.session_kwargs)\n\u001b[0m\u001b[1;32m   2479\u001b[0m         \u001b[0;32mreturn\u001b[0m \u001b[0mupdated\u001b[0m\u001b[0;34m[\u001b[0m\u001b[0;34m:\u001b[0m\u001b[0mlen\u001b[0m\u001b[0;34m(\u001b[0m\u001b[0mself\u001b[0m\u001b[0;34m.\u001b[0m\u001b[0moutputs\u001b[0m\u001b[0;34m)\u001b[0m\u001b[0;34m]\u001b[0m\u001b[0;34m\u001b[0m\u001b[0m\n\u001b[1;32m   2480\u001b[0m \u001b[0;34m\u001b[0m\u001b[0m\n",
      "\u001b[0;32m~/anaconda3/envs/py3/lib/python3.6/site-packages/tensorflow/python/client/session.py\u001b[0m in \u001b[0;36mrun\u001b[0;34m(self, fetches, feed_dict, options, run_metadata)\u001b[0m\n\u001b[1;32m    903\u001b[0m     \u001b[0;32mtry\u001b[0m\u001b[0;34m:\u001b[0m\u001b[0;34m\u001b[0m\u001b[0m\n\u001b[1;32m    904\u001b[0m       result = self._run(None, fetches, feed_dict, options_ptr,\n\u001b[0;32m--> 905\u001b[0;31m                          run_metadata_ptr)\n\u001b[0m\u001b[1;32m    906\u001b[0m       \u001b[0;32mif\u001b[0m \u001b[0mrun_metadata\u001b[0m\u001b[0;34m:\u001b[0m\u001b[0;34m\u001b[0m\u001b[0m\n\u001b[1;32m    907\u001b[0m         \u001b[0mproto_data\u001b[0m \u001b[0;34m=\u001b[0m \u001b[0mtf_session\u001b[0m\u001b[0;34m.\u001b[0m\u001b[0mTF_GetBuffer\u001b[0m\u001b[0;34m(\u001b[0m\u001b[0mrun_metadata_ptr\u001b[0m\u001b[0;34m)\u001b[0m\u001b[0;34m\u001b[0m\u001b[0m\n",
      "\u001b[0;32m~/anaconda3/envs/py3/lib/python3.6/site-packages/tensorflow/python/client/session.py\u001b[0m in \u001b[0;36m_run\u001b[0;34m(self, handle, fetches, feed_dict, options, run_metadata)\u001b[0m\n\u001b[1;32m   1135\u001b[0m     \u001b[0;32mif\u001b[0m \u001b[0mfinal_fetches\u001b[0m \u001b[0;32mor\u001b[0m \u001b[0mfinal_targets\u001b[0m \u001b[0;32mor\u001b[0m \u001b[0;34m(\u001b[0m\u001b[0mhandle\u001b[0m \u001b[0;32mand\u001b[0m \u001b[0mfeed_dict_tensor\u001b[0m\u001b[0;34m)\u001b[0m\u001b[0;34m:\u001b[0m\u001b[0;34m\u001b[0m\u001b[0m\n\u001b[1;32m   1136\u001b[0m       results = self._do_run(handle, final_targets, final_fetches,\n\u001b[0;32m-> 1137\u001b[0;31m                              feed_dict_tensor, options, run_metadata)\n\u001b[0m\u001b[1;32m   1138\u001b[0m     \u001b[0;32melse\u001b[0m\u001b[0;34m:\u001b[0m\u001b[0;34m\u001b[0m\u001b[0m\n\u001b[1;32m   1139\u001b[0m       \u001b[0mresults\u001b[0m \u001b[0;34m=\u001b[0m \u001b[0;34m[\u001b[0m\u001b[0;34m]\u001b[0m\u001b[0;34m\u001b[0m\u001b[0m\n",
      "\u001b[0;32m~/anaconda3/envs/py3/lib/python3.6/site-packages/tensorflow/python/client/session.py\u001b[0m in \u001b[0;36m_do_run\u001b[0;34m(self, handle, target_list, fetch_list, feed_dict, options, run_metadata)\u001b[0m\n\u001b[1;32m   1353\u001b[0m     \u001b[0;32mif\u001b[0m \u001b[0mhandle\u001b[0m \u001b[0;32mis\u001b[0m \u001b[0;32mNone\u001b[0m\u001b[0;34m:\u001b[0m\u001b[0;34m\u001b[0m\u001b[0m\n\u001b[1;32m   1354\u001b[0m       return self._do_call(_run_fn, self._session, feeds, fetches, targets,\n\u001b[0;32m-> 1355\u001b[0;31m                            options, run_metadata)\n\u001b[0m\u001b[1;32m   1356\u001b[0m     \u001b[0;32melse\u001b[0m\u001b[0;34m:\u001b[0m\u001b[0;34m\u001b[0m\u001b[0m\n\u001b[1;32m   1357\u001b[0m       \u001b[0;32mreturn\u001b[0m \u001b[0mself\u001b[0m\u001b[0;34m.\u001b[0m\u001b[0m_do_call\u001b[0m\u001b[0;34m(\u001b[0m\u001b[0m_prun_fn\u001b[0m\u001b[0;34m,\u001b[0m \u001b[0mself\u001b[0m\u001b[0;34m.\u001b[0m\u001b[0m_session\u001b[0m\u001b[0;34m,\u001b[0m \u001b[0mhandle\u001b[0m\u001b[0;34m,\u001b[0m \u001b[0mfeeds\u001b[0m\u001b[0;34m,\u001b[0m \u001b[0mfetches\u001b[0m\u001b[0;34m)\u001b[0m\u001b[0;34m\u001b[0m\u001b[0m\n",
      "\u001b[0;32m~/anaconda3/envs/py3/lib/python3.6/site-packages/tensorflow/python/client/session.py\u001b[0m in \u001b[0;36m_do_call\u001b[0;34m(self, fn, *args)\u001b[0m\n\u001b[1;32m   1359\u001b[0m   \u001b[0;32mdef\u001b[0m \u001b[0m_do_call\u001b[0m\u001b[0;34m(\u001b[0m\u001b[0mself\u001b[0m\u001b[0;34m,\u001b[0m \u001b[0mfn\u001b[0m\u001b[0;34m,\u001b[0m \u001b[0;34m*\u001b[0m\u001b[0margs\u001b[0m\u001b[0;34m)\u001b[0m\u001b[0;34m:\u001b[0m\u001b[0;34m\u001b[0m\u001b[0m\n\u001b[1;32m   1360\u001b[0m     \u001b[0;32mtry\u001b[0m\u001b[0;34m:\u001b[0m\u001b[0;34m\u001b[0m\u001b[0m\n\u001b[0;32m-> 1361\u001b[0;31m       \u001b[0;32mreturn\u001b[0m \u001b[0mfn\u001b[0m\u001b[0;34m(\u001b[0m\u001b[0;34m*\u001b[0m\u001b[0margs\u001b[0m\u001b[0;34m)\u001b[0m\u001b[0;34m\u001b[0m\u001b[0m\n\u001b[0m\u001b[1;32m   1362\u001b[0m     \u001b[0;32mexcept\u001b[0m \u001b[0merrors\u001b[0m\u001b[0;34m.\u001b[0m\u001b[0mOpError\u001b[0m \u001b[0;32mas\u001b[0m \u001b[0me\u001b[0m\u001b[0;34m:\u001b[0m\u001b[0;34m\u001b[0m\u001b[0m\n\u001b[1;32m   1363\u001b[0m       \u001b[0mmessage\u001b[0m \u001b[0;34m=\u001b[0m \u001b[0mcompat\u001b[0m\u001b[0;34m.\u001b[0m\u001b[0mas_text\u001b[0m\u001b[0;34m(\u001b[0m\u001b[0me\u001b[0m\u001b[0;34m.\u001b[0m\u001b[0mmessage\u001b[0m\u001b[0;34m)\u001b[0m\u001b[0;34m\u001b[0m\u001b[0m\n",
      "\u001b[0;32m~/anaconda3/envs/py3/lib/python3.6/site-packages/tensorflow/python/client/session.py\u001b[0m in \u001b[0;36m_run_fn\u001b[0;34m(session, feed_dict, fetch_list, target_list, options, run_metadata)\u001b[0m\n\u001b[1;32m   1338\u001b[0m         \u001b[0;32melse\u001b[0m\u001b[0;34m:\u001b[0m\u001b[0;34m\u001b[0m\u001b[0m\n\u001b[1;32m   1339\u001b[0m           return tf_session.TF_Run(session, options, feed_dict, fetch_list,\n\u001b[0;32m-> 1340\u001b[0;31m                                    target_list, status, run_metadata)\n\u001b[0m\u001b[1;32m   1341\u001b[0m \u001b[0;34m\u001b[0m\u001b[0m\n\u001b[1;32m   1342\u001b[0m     \u001b[0;32mdef\u001b[0m \u001b[0m_prun_fn\u001b[0m\u001b[0;34m(\u001b[0m\u001b[0msession\u001b[0m\u001b[0;34m,\u001b[0m \u001b[0mhandle\u001b[0m\u001b[0;34m,\u001b[0m \u001b[0mfeed_dict\u001b[0m\u001b[0;34m,\u001b[0m \u001b[0mfetch_list\u001b[0m\u001b[0;34m)\u001b[0m\u001b[0;34m:\u001b[0m\u001b[0;34m\u001b[0m\u001b[0m\n",
      "\u001b[0;31mKeyboardInterrupt\u001b[0m: "
     ]
    }
   ],
   "source": [
    "from keras import regularizers\n",
    "\n",
    "input_tensor = Input(shape=(2048,))\n",
    "x = Dropout(0.4)(input_tensor)\n",
    "x = Dense(1024, activation='relu', name='res_dense_1', kernel_regularizer=regularizers.l2(0.0008))(x)\n",
    "x = Dropout(0.4)(x)\n",
    "x = Dense(1, activation='sigmoid', name='res_dense_2')(x)\n",
    "\n",
    "model = Model(inputs=input_tensor, outputs=x)\n",
    "\n",
    "model.compile(optimizer='adadelta', loss='binary_crossentropy', metrics=['accuracy'])\n",
    "\n",
    "hist = model.fit(x_train, y_train, batch_size=32, epochs=30, validation_split=0.2)"
   ]
  },
  {
   "cell_type": "code",
   "execution_count": null,
   "metadata": {
    "collapsed": true
   },
   "outputs": [],
   "source": [
    "get_test_result(model, resnet_50_vec_path, (224, 224), model_name=\"resnet-50-imp\")"
   ]
  },
  {
   "cell_type": "markdown",
   "metadata": {},
   "source": [
    "# 5，通用提取向量函数\n",
    "\n",
    "因为以后还会尝试更多的模型，所以这里需要写一个通用的函数，用于各种模型的输出向量的提取。"
   ]
  },
  {
   "cell_type": "code",
   "execution_count": 37,
   "metadata": {
    "collapsed": true
   },
   "outputs": [],
   "source": [
    "from keras.applications.resnet50 import ResNet50, preprocess_input\n",
    "from keras.layers import Input\n",
    "from keras.layers.core import Lambda\n",
    "\n",
    "def model_vector_catch(Model, iamge_size, preprocess_func=None):\n",
    "    input_tensor = Input(shape=(iamge_size[0], iamge_size[1], 3))\n",
    "    if preprocess_func:\n",
    "        ## check if need preprocessing\n",
    "        x = Lambda(preprocess_func)(input_tensor)\n",
    "    \n",
    "    model = Model(include_top=False, weights='imagenet', input_tensor=input_tensor, input_shape=(iamge_size[0], iamge_size[1], 3))\n",
    "    ## flatten the output shape and generate model\n",
    "    out = GlobalAveragePooling2D()(model.output)\n",
    "    model = Model(inputs=model.input, outputs=out)\n",
    "    \n",
    "    ## get iamge generator\n",
    "    gen = ImageDataGenerator()\n",
    "    \"\"\"\n",
    "    classes = ['cat', 'dog'] -- cat is 0, dog is 1, so we need write this\n",
    "    class_mode = None -- i will not use like 'fit_fitgenerator', so i do not need labels\n",
    "    shuffle = False -- it is unneccssary\n",
    "    batch_size = 64 \n",
    "    \"\"\"\n",
    "    train_generator = gen.flow_from_directory(train_link_path, image_size, color_mode='rgb', \\\n",
    "                                              classes=['cat', 'dog'], class_mode=None, shuffle=False, batch_size=64)\n",
    "    test_generator = gen.flow_from_directory(test_link_path, image_size, color_mode='rgb', \\\n",
    "                                          class_mode=None, shuffle=False, batch_size=64)\n",
    "    \"\"\"\n",
    "    steps = None, by default, the steps = len(generator)\n",
    "    \"\"\"\n",
    "    train_vector = model.predict_generator(train_generator)\n",
    "    test_vector = model.predict_generator(test_generator)\n",
    "    \n",
    "    with h5py.File(\"vector_%s.h5\" % (Model.func_name), 'w') as f: \n",
    "        f.create_dataset('x_train', data=train_vector)\n",
    "        f.create_dataset(\"y_train\", data=train_generator.classes)\n",
    "        f.create_dataset(\"test\", data=test_vector)"
   ]
  }
 ],
 "metadata": {
  "kernelspec": {
   "display_name": "Python 3",
   "language": "python",
   "name": "python3"
  },
  "language_info": {
   "codemirror_mode": {
    "name": "ipython",
    "version": 3
   },
   "file_extension": ".py",
   "mimetype": "text/x-python",
   "name": "python",
   "nbconvert_exporter": "python",
   "pygments_lexer": "ipython3",
   "version": "3.6.4"
  }
 },
 "nbformat": 4,
 "nbformat_minor": 2
}
