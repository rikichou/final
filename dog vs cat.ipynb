{
 "cells": [
  {
   "cell_type": "markdown",
   "metadata": {},
   "source": [
    "# 1，数据集准备\n",
    "\n",
    "\n",
    "数据集来自kaggle的dog vs cat主页（https://www.kaggle.com/c/dogs-vs-cats-redux-kernels-edition/data）\n"
   ]
  },
  {
   "cell_type": "code",
   "execution_count": 1,
   "metadata": {},
   "outputs": [
    {
     "name": "stdout",
     "output_type": "stream",
     "text": [
      "Data is ready!\n"
     ]
    }
   ],
   "source": [
    "from urllib.request import urlretrieve\n",
    "from os.path import isfile, isdir\n",
    "from tqdm import tqdm\n",
    "import zipfile\n",
    "\n",
    "data_path = './'\n",
    "train_dir_name = 'train'\n",
    "test_dir_name = 'test'\n",
    "\n",
    "## check if the train and  test data is exist\n",
    "if not isdir(data_path + train_dir_name):\n",
    "    if not isfile(data_path + train_dir_name + '.zip'):\n",
    "        print (\"Please download train.zip from kaggle!\")\n",
    "        assert(False)\n",
    "    else:\n",
    "        with zipfile.ZipFile(data_path + train_dir_name + '.zip') as azip:\n",
    "            print (\"Now to extract %s \" % (data_path + train_dir_name + '.zip'))\n",
    "            azip.extractall()\n",
    "    \n",
    "if not isdir(data_path + test_dir_name):\n",
    "    if not isfile(data_path + test_dir_name + '.zip'):\n",
    "        print (\"Please download test1.zip from kaggle!\")\n",
    "        assert(False)\n",
    "    else:\n",
    "        with zipfile.ZipFile(data_path + test_dir_name + '.zip') as azip:\n",
    "            print (\"Now to extract %s \" % (data_path + test_dir_name + '.zip'))\n",
    "            azip.extractall()\n",
    "print (\"Data is ready!\")"
   ]
  },
  {
   "cell_type": "markdown",
   "metadata": {},
   "source": [
    "# 2，将猫狗训练数据分开存放\n",
    "\n",
    "首先我们会实施第一个方案，就是只用一个预训练模型来进行微调，看看这个模型做得怎么样？初步采用的模型是ResNet-50，所以我们就需要按照该模型的要求来对图片进行预处理。进一步地，为了尽快实现想法，我打算采用Keras平台，因为Keras已经包含了众多知名的模型，并且可以很轻易地加载与训练权重。而且Keras也提供了很方便的工具（image generator）来帮助我们直接从硬盘加载图片到模型，这样不但减少了代码量，而且利用Keras自带的程序能够极大减少内存的浪费（相比于手动一次性加载到内存）。但是image generator需要图片已经根据类别放入不同的文件夹。所以接下来的事情就是将训练和测试样本按照类别放入不同的文件夹。"
   ]
  },
  {
   "cell_type": "code",
   "execution_count": 2,
   "metadata": {},
   "outputs": [],
   "source": [
    "import os\n",
    "\n",
    "train_dir = data_path + train_dir_name\n",
    "test_dir = data_path + test_dir_name\n",
    "\n",
    "## get all train filenames and test filenames\n",
    "train_filenames = os.listdir(train_dir)\n",
    "test_filenames = os.listdir(test_dir)\n",
    "\n",
    "## get all dogs and cats\n",
    "cat_names = filter(lambda x:x[:3] == 'cat', train_filenames)\n",
    "dog_names = filter(lambda x:x[:3] == 'dog', train_filenames)"
   ]
  },
  {
   "cell_type": "markdown",
   "metadata": {},
   "source": [
    "现在已经获得了文件名，现在需要另外建立一个文件夹，用于存储分开的猫狗图片。为了节省空间，这里采用建立软链接的方式来分开存储猫狗图片。"
   ]
  },
  {
   "cell_type": "code",
   "execution_count": 3,
   "metadata": {},
   "outputs": [
    {
     "name": "stdout",
     "output_type": "stream",
     "text": [
      "Build all linkage complete!\n"
     ]
    }
   ],
   "source": [
    "## check if we did that\n",
    "test_link_path = './test_link'\n",
    "test_link_data = './test_link/data'\n",
    "\n",
    "train_link_path = './train_link'\n",
    "train_link_cat = './train_link/cat'\n",
    "train_link_dog = './train_link/dog'\n",
    "\n",
    "if not isdir(test_link_path):\n",
    "    print (\"Now to build %s!\" % (test_link_path))\n",
    "    os.makedirs(test_link_path)\n",
    "    os.symlink('../' + test_dir_name, test_link_data)\n",
    "    \n",
    "if not isdir(train_link_path):\n",
    "    print (\"Now to build %s!\" % (train_link_path))\n",
    "    os.makedirs(train_link_cat)\n",
    "    os.makedirs(train_link_dog)\n",
    "    ## create link for the image\n",
    "    for file in cat_names:\n",
    "        os.symlink('../../' + train_dir_name+'/'+file, train_link_cat+'/'+file)\n",
    "    for file in dog_names:\n",
    "        os.symlink('../../' + train_dir_name+'/'+file, train_link_dog+'/'+file)\n",
    "\n",
    "print (\"Build all linkage complete!\")"
   ]
  },
  {
   "cell_type": "markdown",
   "metadata": {},
   "source": [
    "# 3, 载入ResNet-50模型，提取中间值\n",
    "\n",
    "现在我们需要载入预训练的ResNet-50模型，并且，由于ResNet-50模型的输出是1000维的向量，而我们的功能是二分类，所以只需要输出单一的概率即可，所以需要替换掉原始的输出层换成我们的sigmoid激活函数。\n"
   ]
  },
  {
   "cell_type": "code",
   "execution_count": 4,
   "metadata": {},
   "outputs": [
    {
     "name": "stderr",
     "output_type": "stream",
     "text": [
      "/home/ubuntu/anaconda3/lib/python3.6/site-packages/h5py/__init__.py:36: FutureWarning: Conversion of the second argument of issubdtype from `float` to `np.floating` is deprecated. In future, it will be treated as `np.float64 == np.dtype(float).type`.\n",
      "  from ._conv import register_converters as _register_converters\n",
      "Using TensorFlow backend.\n",
      "/home/ubuntu/anaconda3/lib/python3.6/site-packages/matplotlib/__init__.py:1067: UserWarning: Duplicate key in file \"/home/ubuntu/.config/matplotlib/matplotlibrc\", line #2\n",
      "  (fname, cnt))\n",
      "/home/ubuntu/anaconda3/lib/python3.6/site-packages/matplotlib/__init__.py:1067: UserWarning: Duplicate key in file \"/home/ubuntu/.config/matplotlib/matplotlibrc\", line #3\n",
      "  (fname, cnt))\n"
     ]
    },
    {
     "name": "stdout",
     "output_type": "stream",
     "text": [
      "Tensor(\"avg_pool/AvgPool:0\", shape=(?, 1, 1, 2048), dtype=float32)\n"
     ]
    }
   ],
   "source": [
    "from keras.applications.resnet50 import ResNet50, preprocess_input\n",
    "from keras.layers import Input\n",
    "from keras.layers.core import Lambda\n",
    "\n",
    "## resNet-50 do not need preprocessing, so the resNet_input_shape is not neccessary\n",
    "resNet_input_shape = (224,224,3)\n",
    "\n",
    "res_x = Input(shape=resNet_input_shape)\n",
    "res_x = Lambda(preprocess_input)(res_x)\n",
    "res_model = ResNet50(include_top=False, weights='imagenet', input_tensor=res_x, input_shape=resNet_input_shape)\n",
    "\n",
    "print (res_model.output)"
   ]
  },
  {
   "cell_type": "markdown",
   "metadata": {},
   "source": [
    "由于我们采用的预训练模型，暂时只是在ResNet-50上微调，不会对全连接层以外的其它层进行训练。所以如果每次都从上面的模型的输入端进行输入的话会产生很多重复的计算，显得不那么高效。那么这里有一个技巧，可以先把全连接层以前的中间值（以下均称为向量）预先计算并保存起来，由于只需要训练之后的全连接层，所以，将这些保存的向量作为样本，当做后面的全连接层的训练的输入就好了。"
   ]
  },
  {
   "cell_type": "code",
   "execution_count": 5,
   "metadata": {},
   "outputs": [
    {
     "name": "stdout",
     "output_type": "stream",
     "text": [
      "./vect\n"
     ]
    }
   ],
   "source": [
    "## build a model\n",
    "from keras.layers import Dense, GlobalAveragePooling2D, Dropout\n",
    "from keras.models import Model\n",
    "from keras.preprocessing.image import ImageDataGenerator\n",
    "import h5py\n",
    "\n",
    "vec_dir_name = \"vect/\"\n",
    "resnet_50_vec_name = 'resnet_50'\n",
    "vec_dir_path = data_path + \"vect\"\n",
    "resnet_50_vec_path = data_path + vec_dir_name + resnet_50_vec_name\n",
    "print (vec_dir_path)\n",
    "if not isdir(vec_dir_path):\n",
    "    os.makedirs(vec_dir_path)\n",
    "    print (\"Make vector dir:%s\" % (vec_dir_path))\n",
    "    \n",
    "\"\"\"\n",
    "check if the resnet-50 vector file is exist\n",
    "\"\"\"\n",
    "if not isfile(resnet_50_vec_path):\n",
    "    with h5py.File(resnet_50_vec_path, 'w') as f:\n",
    "        print (\"create vector!!\")\n",
    "        \n",
    "        out = GlobalAveragePooling2D()(res_model.output)\n",
    "        res_vec_model = Model(inputs=res_model.input, outputs=out)\n",
    "        \n",
    "        ## save vector\n",
    "        gen = ImageDataGenerator()\n",
    "        test_gen = ImageDataGenerator()\n",
    "        \"\"\"\n",
    "        classes = ['cat', 'dog'] -- cat is 0, dog is 1, so we need write this\n",
    "        class_mode = None -- i will not use like 'fit_fitgenerator', so i do not need labels\n",
    "        shuffle = False -- it is unneccssary\n",
    "        batch_size = 64 \n",
    "        \"\"\"\n",
    "        image_size = (224,224)\n",
    "        train_generator = gen.flow_from_directory(train_link_path, image_size, color_mode='rgb', \\\n",
    "                                                  classes=['cat', 'dog'], class_mode=None, shuffle=False, batch_size=64)\n",
    "        test_generator = test_gen.flow_from_directory(test_link_path, image_size, color_mode='rgb', \\\n",
    "                                                  class_mode=None, shuffle=False, batch_size=64)        \n",
    "        \"\"\"\n",
    "        steps = None, by default, the steps = len(generator)\n",
    "        \"\"\"\n",
    "        vector = res_vec_model.predict_generator(train_generator)\n",
    "        test_vector = res_vec_model.predict_generator(test_generator)\n",
    "        \n",
    "        f.create_dataset('x_train', data=vector)\n",
    "        f.create_dataset(\"y_train\", data=train_generator.classes)\n",
    "        f.create_dataset(\"test\", data=test_vector)\n"
   ]
  },
  {
   "cell_type": "markdown",
   "metadata": {
    "collapsed": true
   },
   "source": [
    "# 4, 训练一个模型"
   ]
  },
  {
   "cell_type": "code",
   "execution_count": 13,
   "metadata": {},
   "outputs": [
    {
     "name": "stdout",
     "output_type": "stream",
     "text": [
      "Train on 20000 samples, validate on 5000 samples\n",
      "Epoch 1/50\n",
      "20000/20000 [==============================] - 3s 136us/step - loss: 0.0781 - acc: 0.9729 - val_loss: 0.0398 - val_acc: 0.9850\n",
      "Epoch 2/50\n",
      "20000/20000 [==============================] - 2s 104us/step - loss: 0.0416 - acc: 0.9845 - val_loss: 0.0315 - val_acc: 0.9880\n",
      "Epoch 3/50\n",
      "20000/20000 [==============================] - 2s 104us/step - loss: 0.0361 - acc: 0.9877 - val_loss: 0.0322 - val_acc: 0.9880\n",
      "Epoch 4/50\n",
      "20000/20000 [==============================] - 2s 104us/step - loss: 0.0340 - acc: 0.9883 - val_loss: 0.0309 - val_acc: 0.9890\n",
      "Epoch 5/50\n",
      "20000/20000 [==============================] - 2s 104us/step - loss: 0.0342 - acc: 0.9879 - val_loss: 0.0307 - val_acc: 0.9882\n",
      "Epoch 6/50\n",
      "20000/20000 [==============================] - 2s 104us/step - loss: 0.0339 - acc: 0.9888 - val_loss: 0.0292 - val_acc: 0.9898\n",
      "Epoch 7/50\n",
      "20000/20000 [==============================] - 2s 104us/step - loss: 0.0305 - acc: 0.9886 - val_loss: 0.0307 - val_acc: 0.9892\n",
      "Epoch 8/50\n",
      "20000/20000 [==============================] - 2s 104us/step - loss: 0.0311 - acc: 0.9895 - val_loss: 0.0307 - val_acc: 0.9898\n",
      "Epoch 9/50\n",
      "20000/20000 [==============================] - 2s 104us/step - loss: 0.0315 - acc: 0.9890 - val_loss: 0.0300 - val_acc: 0.9894\n",
      "Epoch 10/50\n",
      "20000/20000 [==============================] - 2s 104us/step - loss: 0.0320 - acc: 0.9892 - val_loss: 0.0297 - val_acc: 0.9888\n",
      "Epoch 11/50\n",
      "20000/20000 [==============================] - 2s 104us/step - loss: 0.0311 - acc: 0.9895 - val_loss: 0.0322 - val_acc: 0.9890\n",
      "Epoch 12/50\n",
      "20000/20000 [==============================] - 2s 104us/step - loss: 0.0309 - acc: 0.9893 - val_loss: 0.0341 - val_acc: 0.9880\n",
      "Epoch 13/50\n",
      "20000/20000 [==============================] - 2s 104us/step - loss: 0.0307 - acc: 0.9899 - val_loss: 0.0306 - val_acc: 0.9902\n",
      "Epoch 14/50\n",
      "20000/20000 [==============================] - 2s 104us/step - loss: 0.0284 - acc: 0.9901 - val_loss: 0.0317 - val_acc: 0.9902\n",
      "Epoch 15/50\n",
      "20000/20000 [==============================] - 2s 104us/step - loss: 0.0298 - acc: 0.9902 - val_loss: 0.0305 - val_acc: 0.9890\n",
      "Epoch 16/50\n",
      "20000/20000 [==============================] - 2s 104us/step - loss: 0.0305 - acc: 0.9896 - val_loss: 0.0300 - val_acc: 0.9892\n",
      "Epoch 17/50\n",
      "20000/20000 [==============================] - 2s 104us/step - loss: 0.0295 - acc: 0.9896 - val_loss: 0.0331 - val_acc: 0.9896\n",
      "Epoch 18/50\n",
      "20000/20000 [==============================] - 2s 104us/step - loss: 0.0289 - acc: 0.9902 - val_loss: 0.0377 - val_acc: 0.9882\n",
      "Epoch 19/50\n",
      "20000/20000 [==============================] - 2s 104us/step - loss: 0.0272 - acc: 0.9905 - val_loss: 0.0335 - val_acc: 0.9888\n",
      "Epoch 20/50\n",
      "20000/20000 [==============================] - 2s 104us/step - loss: 0.0301 - acc: 0.9896 - val_loss: 0.0315 - val_acc: 0.9894\n",
      "Epoch 21/50\n",
      "20000/20000 [==============================] - 2s 104us/step - loss: 0.0275 - acc: 0.9906 - val_loss: 0.0304 - val_acc: 0.9902\n",
      "Epoch 22/50\n",
      "20000/20000 [==============================] - 2s 104us/step - loss: 0.0314 - acc: 0.9890 - val_loss: 0.0307 - val_acc: 0.9898\n",
      "Epoch 23/50\n",
      "20000/20000 [==============================] - 2s 104us/step - loss: 0.0287 - acc: 0.9906 - val_loss: 0.0313 - val_acc: 0.9890\n",
      "Epoch 24/50\n",
      "20000/20000 [==============================] - 2s 104us/step - loss: 0.0285 - acc: 0.9901 - val_loss: 0.0308 - val_acc: 0.9888\n",
      "Epoch 25/50\n",
      "20000/20000 [==============================] - 2s 104us/step - loss: 0.0285 - acc: 0.9904 - val_loss: 0.0315 - val_acc: 0.9886\n",
      "Epoch 26/50\n",
      "20000/20000 [==============================] - 2s 104us/step - loss: 0.0299 - acc: 0.9905 - val_loss: 0.0306 - val_acc: 0.9898\n",
      "Epoch 27/50\n",
      "20000/20000 [==============================] - 2s 104us/step - loss: 0.0275 - acc: 0.9909 - val_loss: 0.0328 - val_acc: 0.9892\n",
      "Epoch 28/50\n",
      "20000/20000 [==============================] - 2s 104us/step - loss: 0.0278 - acc: 0.9901 - val_loss: 0.0316 - val_acc: 0.9890\n",
      "Epoch 29/50\n",
      "20000/20000 [==============================] - 2s 104us/step - loss: 0.0288 - acc: 0.9902 - val_loss: 0.0329 - val_acc: 0.9892\n",
      "Epoch 30/50\n",
      "20000/20000 [==============================] - 2s 104us/step - loss: 0.0313 - acc: 0.9896 - val_loss: 0.0305 - val_acc: 0.9898\n",
      "Epoch 31/50\n",
      "20000/20000 [==============================] - 2s 104us/step - loss: 0.0299 - acc: 0.9899 - val_loss: 0.0314 - val_acc: 0.9898\n",
      "Epoch 32/50\n",
      "20000/20000 [==============================] - 2s 104us/step - loss: 0.0284 - acc: 0.9906 - val_loss: 0.0318 - val_acc: 0.9900\n",
      "Epoch 33/50\n",
      "20000/20000 [==============================] - 2s 104us/step - loss: 0.0285 - acc: 0.9905 - val_loss: 0.0301 - val_acc: 0.9894\n",
      "Epoch 34/50\n",
      "20000/20000 [==============================] - 2s 104us/step - loss: 0.0287 - acc: 0.9900 - val_loss: 0.0358 - val_acc: 0.9886\n",
      "Epoch 35/50\n",
      "20000/20000 [==============================] - 2s 104us/step - loss: 0.0281 - acc: 0.9904 - val_loss: 0.0345 - val_acc: 0.9892\n",
      "Epoch 36/50\n",
      "20000/20000 [==============================] - 2s 104us/step - loss: 0.0274 - acc: 0.9908 - val_loss: 0.0304 - val_acc: 0.9900\n",
      "Epoch 37/50\n",
      "20000/20000 [==============================] - 2s 104us/step - loss: 0.0305 - acc: 0.9905 - val_loss: 0.0316 - val_acc: 0.9888\n",
      "Epoch 38/50\n",
      "20000/20000 [==============================] - 2s 104us/step - loss: 0.0298 - acc: 0.9904 - val_loss: 0.0300 - val_acc: 0.9904\n",
      "Epoch 39/50\n",
      "20000/20000 [==============================] - 2s 104us/step - loss: 0.0285 - acc: 0.9909 - val_loss: 0.0303 - val_acc: 0.9900\n",
      "Epoch 40/50\n",
      "20000/20000 [==============================] - 2s 104us/step - loss: 0.0287 - acc: 0.9904 - val_loss: 0.0329 - val_acc: 0.9894\n",
      "Epoch 41/50\n",
      "20000/20000 [==============================] - 2s 104us/step - loss: 0.0295 - acc: 0.9905 - val_loss: 0.0302 - val_acc: 0.9908\n",
      "Epoch 42/50\n",
      "20000/20000 [==============================] - 2s 104us/step - loss: 0.0255 - acc: 0.9911 - val_loss: 0.0323 - val_acc: 0.9908\n",
      "Epoch 43/50\n",
      "20000/20000 [==============================] - 2s 104us/step - loss: 0.0319 - acc: 0.9904 - val_loss: 0.0310 - val_acc: 0.9896\n",
      "Epoch 44/50\n",
      "20000/20000 [==============================] - 2s 104us/step - loss: 0.0282 - acc: 0.9905 - val_loss: 0.0307 - val_acc: 0.9894\n",
      "Epoch 45/50\n",
      "20000/20000 [==============================] - 2s 104us/step - loss: 0.0273 - acc: 0.9905 - val_loss: 0.0301 - val_acc: 0.9906\n",
      "Epoch 46/50\n",
      "20000/20000 [==============================] - 2s 104us/step - loss: 0.0265 - acc: 0.9915 - val_loss: 0.0299 - val_acc: 0.9904\n",
      "Epoch 47/50\n",
      "20000/20000 [==============================] - 2s 104us/step - loss: 0.0305 - acc: 0.9900 - val_loss: 0.0315 - val_acc: 0.9894\n",
      "Epoch 48/50\n",
      "20000/20000 [==============================] - 2s 104us/step - loss: 0.0299 - acc: 0.9900 - val_loss: 0.0326 - val_acc: 0.9900\n",
      "Epoch 49/50\n",
      "20000/20000 [==============================] - 2s 104us/step - loss: 0.0273 - acc: 0.9910 - val_loss: 0.0355 - val_acc: 0.9888\n",
      "Epoch 50/50\n",
      "20000/20000 [==============================] - 2s 104us/step - loss: 0.0289 - acc: 0.9904 - val_loss: 0.0319 - val_acc: 0.9904\n"
     ]
    }
   ],
   "source": [
    "import numpy as np\n",
    "from sklearn.utils import shuffle\n",
    "\n",
    "\n",
    "with h5py.File(resnet_50_vec_path, 'r') as f:\n",
    "    x_train = np.array(f['x_train'])\n",
    "    y_train = np.array(f['y_train'])\n",
    "    x_train, y_train = shuffle(x_train, y_train, random_state=0)\n",
    "    \n",
    "input_tensor = Input(shape=(2048,))\n",
    "x = Dropout(0.4)(input_tensor)\n",
    "x = Dense(1, activation='sigmoid', name='res_dense_1')(x)\n",
    "\n",
    "model = Model(inputs=input_tensor, outputs=x)\n",
    "\n",
    "model.compile(optimizer='adadelta', loss='binary_crossentropy', metrics=['accuracy'])\n",
    "\n",
    "hist = model.fit(x_train, y_train, batch_size=32, epochs=50, validation_split=0.2)"
   ]
  },
  {
   "cell_type": "markdown",
   "metadata": {},
   "source": [
    "上面的结果看起来还不错，本来是0.035这样的验证集（不是测试集）loss可以在leaderboard上排名前10名了，待会儿再在测试集上得出结果提交到kaggle。其实在得到这个结果之前犯了一个错误，就是从文件中读取出来x_train和y_train之后，没有对样本进行shuffle。导致验证集的loss在0.2到0.7不断地跳动，我刚开始还以为只是模型的结构引起的过拟合，所以修改了dropout的rate，将其变大，也就是丢弃的几率变大。而且还在输出层对参数加了一个L2的正则化。但是几乎没有效果。所以我就意识到，可能不是模型的问题。然后在群上看他们聊天聊到shuffle，我恍然大悟，原来是我读出来的时候没有进行shuffle，现在就好了。"
   ]
  },
  {
   "cell_type": "code",
   "execution_count": 14,
   "metadata": {},
   "outputs": [
    {
     "data": {
      "image/png": "[encoded data removed]",
      "text/plain": [
       "<Figure size 432x288 with 1 Axes>"
      ]
     },
     "metadata": {},
     "output_type": "display_data"
    }
   ],
   "source": [
    "import matplotlib.pyplot as plt\n",
    "\n",
    "plt.plot(hist.history['val_loss'], label=\"validation loss\")\n",
    "plt.plot(hist.history['loss'], label=\"train loss\")\n",
    "plt.ylabel('loss')\n",
    "plt.xlabel('epoch')\n",
    "plt.title(\"resnet-50\")\n",
    "plt.legend()\n",
    "plt.show()"
   ]
  },
  {
   "cell_type": "markdown",
   "metadata": {},
   "source": [
    "# 5, 预测测试集"
   ]
  },
  {
   "cell_type": "code",
   "execution_count": 15,
   "metadata": {},
   "outputs": [
    {
     "name": "stdout",
     "output_type": "stream",
     "text": [
      "Found 12500 images belonging to 1 classes.\n",
      "test result file resnet-50.csv generated!\n"
     ]
    }
   ],
   "source": [
    "import pandas as pd\n",
    "\n",
    "def get_test_result(model, test_vec_path, image_size, model_name=\"\"):\n",
    "    with h5py.File(test_vec_path, 'r') as f:\n",
    "        x_test = np.array(f['test'])\n",
    "\n",
    "    pred_test = model.predict(x_test)\n",
    "    pred_test = pred_test.clip(min=0.005, max=0.995)\n",
    "    \n",
    "    df = pd.read_csv(\"sampleSubmission.csv\")\n",
    "\n",
    "    gen = ImageDataGenerator()\n",
    "    test_generator = gen.flow_from_directory(test_link_path, image_size, color_mode='rgb',\n",
    "                                             shuffle=False, batch_size=64, class_mode=None)\n",
    "\n",
    "    for i, fname in enumerate(test_generator.filenames):\n",
    "        index = int(fname[fname.rfind('/')+1:fname.rfind('.')])\n",
    "        #df.set_value(index-1, 'label', y_pred[i])\n",
    "        df.loc[index-1, 'label'] = pred_test[i]\n",
    "    \n",
    "    df.to_csv('%s.csv' % (model_name), index=None)\n",
    "    print ('test result file %s.csv generated!' % (model_name))\n",
    "    df.head(10)\n",
    "\n",
    "get_test_result(model, resnet_50_vec_path, (224, 224), model_name=\"resnet-50\")"
   ]
  },
  {
   "cell_type": "markdown",
   "metadata": {},
   "source": [
    "# 6.改进模型\n",
    "\n",
    "提交到kaggle之后，分数为0.05518，是leaderboard的前10%。但是现在的结果不是很理想，所以我打算在此基础上添加一个全连接层，然后进行训练，看看是否能够增强模型的能力，减小训练loss和验证loss。并且调试一下其他的学习算法，比如Adam。"
   ]
  },
  {
   "cell_type": "code",
   "execution_count": 35,
   "metadata": {},
   "outputs": [
    {
     "name": "stdout",
     "output_type": "stream",
     "text": [
      "Train on 20000 samples, validate on 5000 samples\n",
      "Epoch 1/30\n",
      "20000/20000 [==============================] - 3s 171us/step - loss: 0.1365 - acc: 0.9633 - val_loss: 0.0367 - val_acc: 0.9884\n",
      "Epoch 2/30\n",
      "20000/20000 [==============================] - 3s 131us/step - loss: 0.0698 - acc: 0.9765 - val_loss: 0.0344 - val_acc: 0.9874\n",
      "Epoch 3/30\n",
      "20000/20000 [==============================] - 3s 130us/step - loss: 0.0620 - acc: 0.9782 - val_loss: 0.0335 - val_acc: 0.9894\n",
      "Epoch 4/30\n",
      "20000/20000 [==============================] - 3s 131us/step - loss: 0.0530 - acc: 0.9808 - val_loss: 0.0286 - val_acc: 0.9888\n",
      "Epoch 5/30\n",
      "20000/20000 [==============================] - 3s 131us/step - loss: 0.0495 - acc: 0.9813 - val_loss: 0.0286 - val_acc: 0.9900\n",
      "Epoch 6/30\n",
      "20000/20000 [==============================] - 3s 131us/step - loss: 0.0517 - acc: 0.9818 - val_loss: 0.0301 - val_acc: 0.9890\n",
      "Epoch 7/30\n",
      "20000/20000 [==============================] - 3s 130us/step - loss: 0.0514 - acc: 0.9828 - val_loss: 0.0317 - val_acc: 0.9888\n",
      "Epoch 8/30\n",
      "20000/20000 [==============================] - 3s 130us/step - loss: 0.0485 - acc: 0.9818 - val_loss: 0.0305 - val_acc: 0.9890\n",
      "Epoch 9/30\n",
      "20000/20000 [==============================] - 3s 130us/step - loss: 0.0472 - acc: 0.9842 - val_loss: 0.0304 - val_acc: 0.9872\n",
      "Epoch 10/30\n",
      "20000/20000 [==============================] - 3s 130us/step - loss: 0.0448 - acc: 0.9847 - val_loss: 0.0305 - val_acc: 0.9872\n",
      "Epoch 11/30\n",
      "20000/20000 [==============================] - 3s 130us/step - loss: 0.0456 - acc: 0.9834 - val_loss: 0.0286 - val_acc: 0.9886\n",
      "Epoch 12/30\n",
      "20000/20000 [==============================] - 3s 129us/step - loss: 0.0446 - acc: 0.9837 - val_loss: 0.0298 - val_acc: 0.9888\n",
      "Epoch 13/30\n",
      "20000/20000 [==============================] - 3s 130us/step - loss: 0.0392 - acc: 0.9858 - val_loss: 0.0286 - val_acc: 0.9892\n",
      "Epoch 14/30\n",
      "20000/20000 [==============================] - 3s 130us/step - loss: 0.0408 - acc: 0.9858 - val_loss: 0.0306 - val_acc: 0.9884\n",
      "Epoch 15/30\n",
      "20000/20000 [==============================] - 3s 129us/step - loss: 0.0447 - acc: 0.9843 - val_loss: 0.0292 - val_acc: 0.9894\n",
      "Epoch 16/30\n",
      "20000/20000 [==============================] - 3s 130us/step - loss: 0.0390 - acc: 0.9852 - val_loss: 0.0292 - val_acc: 0.9894\n",
      "Epoch 17/30\n",
      "20000/20000 [==============================] - 3s 130us/step - loss: 0.0399 - acc: 0.9868 - val_loss: 0.0317 - val_acc: 0.9874\n",
      "Epoch 18/30\n",
      "20000/20000 [==============================] - 3s 131us/step - loss: 0.0366 - acc: 0.9873 - val_loss: 0.0320 - val_acc: 0.9880\n",
      "Epoch 19/30\n",
      "20000/20000 [==============================] - 3s 130us/step - loss: 0.0398 - acc: 0.9859 - val_loss: 0.0396 - val_acc: 0.9864\n",
      "Epoch 20/30\n",
      "20000/20000 [==============================] - 3s 130us/step - loss: 0.0418 - acc: 0.9861 - val_loss: 0.0327 - val_acc: 0.9868\n",
      "Epoch 21/30\n",
      "20000/20000 [==============================] - 3s 130us/step - loss: 0.0369 - acc: 0.9867 - val_loss: 0.0347 - val_acc: 0.9840\n",
      "Epoch 22/30\n",
      "20000/20000 [==============================] - 3s 129us/step - loss: 0.0373 - acc: 0.9866 - val_loss: 0.0321 - val_acc: 0.9890\n",
      "Epoch 23/30\n",
      "20000/20000 [==============================] - 3s 130us/step - loss: 0.0354 - acc: 0.9864 - val_loss: 0.0313 - val_acc: 0.9882\n",
      "Epoch 24/30\n",
      "20000/20000 [==============================] - 3s 130us/step - loss: 0.0342 - acc: 0.9879 - val_loss: 0.0324 - val_acc: 0.9886\n",
      "Epoch 25/30\n",
      "20000/20000 [==============================] - 3s 129us/step - loss: 0.0365 - acc: 0.9869 - val_loss: 0.0336 - val_acc: 0.9888\n",
      "Epoch 26/30\n",
      "20000/20000 [==============================] - 3s 129us/step - loss: 0.0338 - acc: 0.9880 - val_loss: 0.0454 - val_acc: 0.9832\n",
      "Epoch 27/30\n",
      "20000/20000 [==============================] - 3s 129us/step - loss: 0.0331 - acc: 0.9885 - val_loss: 0.0336 - val_acc: 0.9882\n",
      "Epoch 28/30\n",
      "20000/20000 [==============================] - 3s 130us/step - loss: 0.0355 - acc: 0.9881 - val_loss: 0.0336 - val_acc: 0.9882\n",
      "Epoch 29/30\n",
      "20000/20000 [==============================] - 3s 130us/step - loss: 0.0321 - acc: 0.9882 - val_loss: 0.0301 - val_acc: 0.9892\n",
      "Epoch 30/30\n",
      "20000/20000 [==============================] - 3s 130us/step - loss: 0.0351 - acc: 0.9882 - val_loss: 0.0345 - val_acc: 0.9878\n"
     ]
    }
   ],
   "source": [
    "input_tensor = Input(shape=(2048,))\n",
    "x = Dropout(0.6)(input_tensor)\n",
    "x = Dense(1024, activation='relu', name='res_dense_1')(x)\n",
    "x = Dropout(0.6)(x)\n",
    "x = Dense(1, activation='sigmoid', name='res_dense_2')(x)\n",
    "\n",
    "model = Model(inputs=input_tensor, outputs=x)\n",
    "\n",
    "model.compile(optimizer='adam', loss='binary_crossentropy', metrics=['accuracy'])\n",
    "\n",
    "hist = model.fit(x_train, y_train, batch_size=32, epochs=30, validation_split=0.2)"
   ]
  },
  {
   "cell_type": "code",
   "execution_count": 36,
   "metadata": {},
   "outputs": [
    {
     "name": "stdout",
     "output_type": "stream",
     "text": [
      "Train on 20000 samples, validate on 5000 samples\n",
      "Epoch 1/5\n",
      "20000/20000 [==============================] - 3s 130us/step - loss: 0.0314 - acc: 0.9892 - val_loss: 0.0333 - val_acc: 0.9880\n",
      "Epoch 2/5\n",
      "20000/20000 [==============================] - 3s 130us/step - loss: 0.0327 - acc: 0.9882 - val_loss: 0.0337 - val_acc: 0.9882\n",
      "Epoch 3/5\n",
      "20000/20000 [==============================] - 3s 130us/step - loss: 0.0323 - acc: 0.9888 - val_loss: 0.0289 - val_acc: 0.9898\n",
      "Epoch 4/5\n",
      "20000/20000 [==============================] - 3s 129us/step - loss: 0.0332 - acc: 0.9885 - val_loss: 0.0325 - val_acc: 0.9880\n",
      "Epoch 5/5\n",
      "20000/20000 [==============================] - 3s 130us/step - loss: 0.0324 - acc: 0.9891 - val_loss: 0.0333 - val_acc: 0.9882\n"
     ]
    }
   ],
   "source": [
    "hist2 = model.fit(x_train, y_train, batch_size=32, epochs=5, validation_split=0.2)"
   ]
  },
  {
   "cell_type": "code",
   "execution_count": 37,
   "metadata": {},
   "outputs": [
    {
     "data": {
      "image/png": "[encoded data removed]",
      "text/plain": [
       "<Figure size 432x288 with 1 Axes>"
      ]
     },
     "metadata": {},
     "output_type": "display_data"
    }
   ],
   "source": [
    "plt.plot(hist2.history['val_loss'], label=\"validation loss\")\n",
    "plt.plot(hist2.history['loss'], label=\"train loss\")\n",
    "plt.ylabel('loss')\n",
    "plt.xlabel('epoch')\n",
    "plt.title(\"resnet-50\")\n",
    "plt.legend()\n",
    "plt.show()"
   ]
  },
  {
   "cell_type": "code",
   "execution_count": 38,
   "metadata": {},
   "outputs": [
    {
     "name": "stdout",
     "output_type": "stream",
     "text": [
      "Found 12500 images belonging to 1 classes.\n",
      "test result file resnet-50.csv generated!\n"
     ]
    }
   ],
   "source": [
    "get_test_result(model, resnet_50_vec_path, (224, 224), model_name=\"resnet-50\")"
   ]
  },
  {
   "cell_type": "markdown",
   "metadata": {},
   "source": [
    "这次提交了kaggle之后，发现loss有了一点点的下降，但是效果也不是非常理想，loss为0.053。resnet-50模型先暂时不试了。先把模型参数和参数保存起来。由于是预训练模型，所以就不需要保存resnet-50部分，只保存添加的全链接层就好了。"
   ]
  },
  {
   "cell_type": "code",
   "execution_count": 39,
   "metadata": {},
   "outputs": [],
   "source": [
    "model.save('resnet-50.h5')"
   ]
  },
  {
   "cell_type": "markdown",
   "metadata": {},
   "source": [
    "# 5，inceptionv3\n",
    "\n",
    "因为以后还会尝试更多的模型，所以这里需要写一个通用的函数，用于各种模型的输出向量的提取。"
   ]
  },
  {
   "cell_type": "code",
   "execution_count": 52,
   "metadata": {},
   "outputs": [],
   "source": [
    "from keras.layers import Input\n",
    "from keras.layers.core import Lambda\n",
    "\n",
    "def model_vector_catch(MODEL, image_size, file_name, preprocess_func=None):\n",
    "    vec_dir = 'vect/'\n",
    "    \n",
    "    input_tensor = Input(shape=(image_size[0], image_size[1], 3))\n",
    "    if preprocess_func:\n",
    "        ## check if need preprocessing\n",
    "        x = Lambda(preprocess_func)(input_tensor)\n",
    "    \n",
    "    model = MODEL(include_top=False, weights='imagenet', input_tensor=input_tensor, input_shape=(image_size[0], image_size[1], 3))\n",
    "    ## flatten the output shape and generate model\n",
    "    out = GlobalAveragePooling2D()(model.output)\n",
    "    model = Model(inputs=model.input, outputs=out)\n",
    "    \n",
    "    ## get iamge generator\n",
    "    gen = ImageDataGenerator()\n",
    "    \"\"\"\n",
    "    classes = ['cat', 'dog'] -- cat is 0, dog is 1, so we need write this\n",
    "    class_mode = None -- i will not use like 'fit_fitgenerator', so i do not need labels\n",
    "    shuffle = False -- it is unneccssary\n",
    "    batch_size = 64 \n",
    "    \"\"\"\n",
    "    train_generator = gen.flow_from_directory(train_link_path, image_size, color_mode='rgb', \\\n",
    "                                              classes=['cat', 'dog'], class_mode=None, shuffle=False, batch_size=64)\n",
    "    test_generator = gen.flow_from_directory(test_link_path, image_size, color_mode='rgb', \\\n",
    "                                          class_mode=None, shuffle=False, batch_size=64)\n",
    "    \"\"\"\n",
    "    steps = None, by default, the steps = len(generator)\n",
    "    \"\"\"\n",
    "    train_vector = model.predict_generator(train_generator)\n",
    "    test_vector = model.predict_generator(test_generator)\n",
    "    \n",
    "    with h5py.File(vec_dir + (\"%s.h5\" % (file_name)), 'w') as f: \n",
    "        f.create_dataset('x_train', data=train_vector)\n",
    "        f.create_dataset(\"y_train\", data=train_generator.classes)\n",
    "        f.create_dataset(\"test\", data=test_vector)\n",
    "    print (\"Model %s vector cached complete!\" % (file_name))"
   ]
  },
  {
   "cell_type": "code",
   "execution_count": 53,
   "metadata": {},
   "outputs": [
    {
     "name": "stdout",
     "output_type": "stream",
     "text": [
      "Found 25000 images belonging to 2 classes.\n",
      "Found 12500 images belonging to 1 classes.\n",
      "Model inceptionv3 vector cached complete!\n"
     ]
    }
   ],
   "source": [
    "from keras.applications.inception_v3 import InceptionV3, preprocess_input\n",
    "\n",
    "model_vector_catch(InceptionV3, (299, 299), 'inceptionv3', preprocess_input)"
   ]
  },
  {
   "cell_type": "markdown",
   "metadata": {},
   "source": [
    "同样，我们先搭建模型，然后进行迁移学习。由于inceptionv3在全连接层之前的输出维度是(?, 1, 1, 2048)，所以新搭建的模型的输入维度是2048.\n",
    "\n",
    "inception v3论文上说其训练时候采用的是RMSProp，初始学习速率为0.045，rho=0.9, epsilon=1.0（确定吗？但是论文上是这样写的），decay采用指数衰减，每两个epoch衰减一次。"
   ]
  },
  {
   "cell_type": "code",
   "execution_count": 65,
   "metadata": {},
   "outputs": [
    {
     "name": "stdout",
     "output_type": "stream",
     "text": [
      "Train on 20000 samples, validate on 5000 samples\n",
      "Epoch 1/30\n",
      "20000/20000 [==============================] - 9s 427us/step - loss: 4.5208 - acc: 0.5850 - val_loss: 4.6237 - val_acc: 0.5318\n",
      "Epoch 2/30\n",
      "20000/20000 [==============================] - 3s 127us/step - loss: 3.0154 - acc: 0.5933 - val_loss: 3.1444 - val_acc: 0.5802\n",
      "Epoch 3/30\n",
      "20000/20000 [==============================] - 3s 127us/step - loss: 2.8034 - acc: 0.5860 - val_loss: 3.1999 - val_acc: 0.5464\n",
      "Epoch 4/30\n",
      "20000/20000 [==============================] - 3s 127us/step - loss: 2.7230 - acc: 0.5901 - val_loss: 1.9185 - val_acc: 0.6242\n",
      "Epoch 5/30\n",
      "20000/20000 [==============================] - 3s 130us/step - loss: 2.6647 - acc: 0.5917 - val_loss: 6.4017 - val_acc: 0.5026\n",
      "Epoch 6/30\n",
      "20000/20000 [==============================] - 3s 129us/step - loss: 2.6761 - acc: 0.5884 - val_loss: 2.0613 - val_acc: 0.6044\n",
      "Epoch 7/30\n",
      "20000/20000 [==============================] - 3s 129us/step - loss: 2.6426 - acc: 0.5937 - val_loss: 1.4759 - val_acc: 0.6322\n",
      "Epoch 8/30\n",
      "20000/20000 [==============================] - 3s 130us/step - loss: 2.6686 - acc: 0.5908 - val_loss: 1.1230 - val_acc: 0.6788\n",
      "Epoch 9/30\n",
      "20000/20000 [==============================] - 3s 130us/step - loss: 2.6475 - acc: 0.5924 - val_loss: 2.8899 - val_acc: 0.5642\n",
      "Epoch 10/30\n",
      "20000/20000 [==============================] - 3s 127us/step - loss: 2.6122 - acc: 0.5945 - val_loss: 2.7836 - val_acc: 0.5576\n",
      "Epoch 11/30\n",
      "20000/20000 [==============================] - 3s 127us/step - loss: 2.6019 - acc: 0.5968 - val_loss: 1.2443 - val_acc: 0.6664\n",
      "Epoch 12/30\n",
      "20000/20000 [==============================] - 3s 127us/step - loss: 2.6601 - acc: 0.5953 - val_loss: 1.2363 - val_acc: 0.6766\n",
      "Epoch 13/30\n",
      "20000/20000 [==============================] - 3s 127us/step - loss: 2.6025 - acc: 0.5998 - val_loss: 3.8547 - val_acc: 0.5330\n",
      "Epoch 14/30\n",
      "20000/20000 [==============================] - 3s 127us/step - loss: 2.6414 - acc: 0.5940 - val_loss: 1.1437 - val_acc: 0.6844\n",
      "Epoch 15/30\n",
      "20000/20000 [==============================] - 3s 127us/step - loss: 2.6421 - acc: 0.5962 - val_loss: 4.1523 - val_acc: 0.5352\n",
      "Epoch 16/30\n",
      "20000/20000 [==============================] - 3s 127us/step - loss: 2.6118 - acc: 0.5971 - val_loss: 3.1903 - val_acc: 0.5418\n",
      "Epoch 17/30\n",
      "20000/20000 [==============================] - 3s 127us/step - loss: 2.6444 - acc: 0.5938 - val_loss: 1.4265 - val_acc: 0.6682\n",
      "Epoch 18/30\n",
      "20000/20000 [==============================] - 3s 127us/step - loss: 2.6310 - acc: 0.5924 - val_loss: 1.0061 - val_acc: 0.6934\n",
      "Epoch 19/30\n",
      "20000/20000 [==============================] - 3s 127us/step - loss: 2.6718 - acc: 0.5913 - val_loss: 6.3542 - val_acc: 0.5030\n",
      "Epoch 20/30\n",
      "20000/20000 [==============================] - 3s 127us/step - loss: 2.6075 - acc: 0.5970 - val_loss: 1.0087 - val_acc: 0.6904\n",
      "Epoch 21/30\n",
      "20000/20000 [==============================] - 3s 127us/step - loss: 2.6536 - acc: 0.5984 - val_loss: 1.4473 - val_acc: 0.6528\n",
      "Epoch 22/30\n",
      "20000/20000 [==============================] - 3s 127us/step - loss: 2.6289 - acc: 0.5946 - val_loss: 1.5484 - val_acc: 0.6320\n",
      "Epoch 23/30\n",
      "20000/20000 [==============================] - 3s 128us/step - loss: 2.6108 - acc: 0.6006 - val_loss: 1.2470 - val_acc: 0.6754\n",
      "Epoch 24/30\n",
      "20000/20000 [==============================] - 3s 127us/step - loss: 2.6312 - acc: 0.5986 - val_loss: 3.7764 - val_acc: 0.5166\n",
      "Epoch 25/30\n",
      "20000/20000 [==============================] - 3s 126us/step - loss: 2.6905 - acc: 0.5931 - val_loss: 3.0403 - val_acc: 0.5634\n",
      "Epoch 26/30\n",
      "20000/20000 [==============================] - 3s 127us/step - loss: 2.6809 - acc: 0.5940 - val_loss: 1.4192 - val_acc: 0.6746\n",
      "Epoch 27/30\n",
      "20000/20000 [==============================] - 3s 127us/step - loss: 2.6406 - acc: 0.5960 - val_loss: 1.4294 - val_acc: 0.6242\n",
      "Epoch 28/30\n",
      "20000/20000 [==============================] - 3s 127us/step - loss: 2.5734 - acc: 0.6022 - val_loss: 4.7465 - val_acc: 0.5212\n",
      "Epoch 29/30\n",
      "20000/20000 [==============================] - 3s 129us/step - loss: 2.6738 - acc: 0.5942 - val_loss: 4.5366 - val_acc: 0.5158\n",
      "Epoch 30/30\n",
      "20000/20000 [==============================] - 3s 128us/step - loss: 2.6269 - acc: 0.5976 - val_loss: 2.5701 - val_acc: 0.5700\n"
     ]
    }
   ],
   "source": [
    "import numpy as np\n",
    "from sklearn.utils import shuffle\n",
    "from keras.optimizers import RMSprop\n",
    "\n",
    "inceptionv3_vec_path = 'vect/inceptionv3.h5'\n",
    "\n",
    "with h5py.File(inceptionv3_vec_path, 'r') as f:\n",
    "    x_train = np.array(f['x_train'])\n",
    "    y_train = np.array(f['y_train'])\n",
    "    x_train, y_train = shuffle(x_train, y_train, random_state=0)\n",
    "    \n",
    "input_tensor = Input(shape=(2048,))\n",
    "x = Dropout(0.4)(input_tensor)\n",
    "x = Dense(1, activation='sigmoid', name='res_dense_1')(x)\n",
    "\n",
    "model = Model(inputs=input_tensor, outputs=x)\n",
    "\n",
    "#opt = RMSprop(lr=0.045, rho=0.9, epsilon=1.0, decay=0.0)\n",
    "model.compile(optimizer='RMSprop', loss='binary_crossentropy', metrics=['accuracy'])\n",
    "\n",
    "hist = model.fit(x_train, y_train, batch_size=32, epochs=30, validation_split=0.2)"
   ]
  },
  {
   "cell_type": "code",
   "execution_count": 62,
   "metadata": {},
   "outputs": [
    {
     "name": "stdout",
     "output_type": "stream",
     "text": [
      "Train on 20000 samples, validate on 5000 samples\n",
      "Epoch 1/30\n",
      "20000/20000 [==============================] - 3s 125us/step - loss: 0.6228 - acc: 0.6633 - val_loss: 0.5873 - val_acc: 0.6868\n",
      "Epoch 2/30\n",
      "20000/20000 [==============================] - 3s 126us/step - loss: 0.6228 - acc: 0.6604 - val_loss: 0.6253 - val_acc: 0.6468\n",
      "Epoch 3/30\n",
      "20000/20000 [==============================] - 2s 124us/step - loss: 0.6232 - acc: 0.6607 - val_loss: 0.5869 - val_acc: 0.6896\n",
      "Epoch 4/30\n",
      "20000/20000 [==============================] - 3s 125us/step - loss: 0.6205 - acc: 0.6589 - val_loss: 0.5896 - val_acc: 0.6924\n",
      "Epoch 5/30\n",
      "20000/20000 [==============================] - 3s 128us/step - loss: 0.6246 - acc: 0.6583 - val_loss: 0.5873 - val_acc: 0.6914\n",
      "Epoch 6/30\n",
      "20000/20000 [==============================] - 3s 125us/step - loss: 0.6206 - acc: 0.6592 - val_loss: 0.6098 - val_acc: 0.6698\n",
      "Epoch 7/30\n",
      "20000/20000 [==============================] - 2s 125us/step - loss: 0.6217 - acc: 0.6602 - val_loss: 0.6106 - val_acc: 0.6690\n",
      "Epoch 8/30\n",
      "20000/20000 [==============================] - 3s 125us/step - loss: 0.6221 - acc: 0.6583 - val_loss: 0.5888 - val_acc: 0.6858\n",
      "Epoch 9/30\n",
      "20000/20000 [==============================] - 3s 125us/step - loss: 0.6174 - acc: 0.6648 - val_loss: 0.5939 - val_acc: 0.6884\n",
      "Epoch 10/30\n",
      "20000/20000 [==============================] - 3s 125us/step - loss: 0.6201 - acc: 0.6616 - val_loss: 0.5943 - val_acc: 0.6776\n",
      "Epoch 11/30\n",
      "20000/20000 [==============================] - 3s 126us/step - loss: 0.6190 - acc: 0.6647 - val_loss: 0.6109 - val_acc: 0.6712\n",
      "Epoch 12/30\n",
      "20000/20000 [==============================] - 3s 125us/step - loss: 0.6209 - acc: 0.6602 - val_loss: 0.5993 - val_acc: 0.6840\n",
      "Epoch 13/30\n",
      "20000/20000 [==============================] - 3s 126us/step - loss: 0.6185 - acc: 0.6603 - val_loss: 0.5949 - val_acc: 0.6744\n",
      "Epoch 14/30\n",
      "20000/20000 [==============================] - 2s 125us/step - loss: 0.6176 - acc: 0.6633 - val_loss: 0.5873 - val_acc: 0.6892\n",
      "Epoch 15/30\n",
      "20000/20000 [==============================] - 2s 125us/step - loss: 0.6186 - acc: 0.6608 - val_loss: 0.5891 - val_acc: 0.6862\n",
      "Epoch 16/30\n",
      "20000/20000 [==============================] - 3s 125us/step - loss: 0.6206 - acc: 0.6583 - val_loss: 0.5884 - val_acc: 0.6912\n",
      "Epoch 17/30\n",
      "20000/20000 [==============================] - 3s 125us/step - loss: 0.6174 - acc: 0.6584 - val_loss: 0.5855 - val_acc: 0.6908\n",
      "Epoch 18/30\n",
      "20000/20000 [==============================] - 3s 125us/step - loss: 0.6215 - acc: 0.6628 - val_loss: 0.5885 - val_acc: 0.6862\n",
      "Epoch 19/30\n",
      "20000/20000 [==============================] - 3s 125us/step - loss: 0.6202 - acc: 0.6586 - val_loss: 0.5884 - val_acc: 0.6854\n",
      "Epoch 20/30\n",
      "20000/20000 [==============================] - 2s 125us/step - loss: 0.6149 - acc: 0.6647 - val_loss: 0.5873 - val_acc: 0.6894\n",
      "Epoch 21/30\n",
      "20000/20000 [==============================] - 3s 125us/step - loss: 0.6231 - acc: 0.6583 - val_loss: 0.6146 - val_acc: 0.6662\n",
      "Epoch 22/30\n",
      "20000/20000 [==============================] - 3s 125us/step - loss: 0.6221 - acc: 0.6611 - val_loss: 0.5852 - val_acc: 0.6900\n",
      "Epoch 23/30\n",
      "20000/20000 [==============================] - 2s 124us/step - loss: 0.6141 - acc: 0.6643 - val_loss: 0.5891 - val_acc: 0.6900\n",
      "Epoch 24/30\n",
      "20000/20000 [==============================] - 3s 125us/step - loss: 0.6165 - acc: 0.6640 - val_loss: 0.6056 - val_acc: 0.6622\n",
      "Epoch 25/30\n",
      "20000/20000 [==============================] - 3s 125us/step - loss: 0.6129 - acc: 0.6683 - val_loss: 0.6010 - val_acc: 0.6752\n",
      "Epoch 26/30\n",
      "20000/20000 [==============================] - 3s 125us/step - loss: 0.6185 - acc: 0.6621 - val_loss: 0.6342 - val_acc: 0.6448\n",
      "Epoch 27/30\n",
      "20000/20000 [==============================] - 2s 125us/step - loss: 0.6171 - acc: 0.6631 - val_loss: 0.5855 - val_acc: 0.6884\n",
      "Epoch 28/30\n",
      "20000/20000 [==============================] - 3s 125us/step - loss: 0.6185 - acc: 0.6630 - val_loss: 0.5866 - val_acc: 0.6910\n",
      "Epoch 29/30\n",
      "20000/20000 [==============================] - 2s 125us/step - loss: 0.6163 - acc: 0.6608 - val_loss: 0.5870 - val_acc: 0.6912\n",
      "Epoch 30/30\n",
      "20000/20000 [==============================] - 3s 125us/step - loss: 0.6164 - acc: 0.6643 - val_loss: 0.6092 - val_acc: 0.6696\n"
     ]
    }
   ],
   "source": [
    "hist = model.fit(x_train, y_train, batch_size=32, epochs=30, validation_split=0.2)"
   ]
  }
 ],
 "metadata": {
  "kernelspec": {
   "display_name": "Python [default]",
   "language": "python",
   "name": "python3"
  },
  "language_info": {
   "codemirror_mode": {
    "name": "ipython",
    "version": 3
   },
   "file_extension": ".py",
   "mimetype": "text/x-python",
   "name": "python",
   "nbconvert_exporter": "python",
   "pygments_lexer": "ipython3",
   "version": "3.6.4"
  }
 },
 "nbformat": 4,
 "nbformat_minor": 2
}
