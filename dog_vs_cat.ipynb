{
 "cells": [
  {
   "cell_type": "markdown",
   "metadata": {},
   "source": [
    "# 1，数据集准备\n",
    "\n",
    "\n",
    "数据集来自kaggle的dog vs cat主页（https://www.kaggle.com/c/dogs-vs-cats-redux-kernels-edition/data）\n"
   ]
  },
  {
   "cell_type": "code",
   "execution_count": 1,
   "metadata": {},
   "outputs": [
    {
     "name": "stderr",
     "output_type": "stream",
     "text": [
      "/home/ubuntu/anaconda3/lib/python3.6/site-packages/h5py/__init__.py:36: FutureWarning: Conversion of the second argument of issubdtype from `float` to `np.floating` is deprecated. In future, it will be treated as `np.float64 == np.dtype(float).type`.\n",
      "  from ._conv import register_converters as _register_converters\n",
      "Using TensorFlow backend.\n",
      "/home/ubuntu/anaconda3/lib/python3.6/site-packages/matplotlib/__init__.py:1067: UserWarning: Duplicate key in file \"/home/ubuntu/.config/matplotlib/matplotlibrc\", line #2\n",
      "  (fname, cnt))\n",
      "/home/ubuntu/anaconda3/lib/python3.6/site-packages/matplotlib/__init__.py:1067: UserWarning: Duplicate key in file \"/home/ubuntu/.config/matplotlib/matplotlibrc\", line #3\n",
      "  (fname, cnt))\n"
     ]
    },
    {
     "name": "stdout",
     "output_type": "stream",
     "text": [
      "Data is ready!\n"
     ]
    }
   ],
   "source": [
    "from keras.layers import Input\n",
    "from keras.layers.core import Lambda\n",
    "from keras.layers import Dense, GlobalAveragePooling2D, Dropout\n",
    "from keras.models import Model\n",
    "from keras.preprocessing.image import ImageDataGenerator\n",
    "\n",
    "from urllib.request import urlretrieve\n",
    "from os.path import isfile, isdir\n",
    "from tqdm import tqdm\n",
    "import zipfile\n",
    "import os\n",
    "import h5py\n",
    "\n",
    "data_path = './'\n",
    "train_dir_name = 'train'\n",
    "test_dir_name = 'test'\n",
    "\n",
    "## check if the train and  test data is exist\n",
    "if not isdir(data_path + train_dir_name):\n",
    "    if not isfile(data_path + train_dir_name + '.zip'):\n",
    "        print (\"Please download train.zip from kaggle!\")\n",
    "        assert(False)\n",
    "    else:\n",
    "        with zipfile.ZipFile(data_path + train_dir_name + '.zip') as azip:\n",
    "            print (\"Now to extract %s \" % (data_path + train_dir_name + '.zip'))\n",
    "            azip.extractall()\n",
    "    \n",
    "if not isdir(data_path + test_dir_name):\n",
    "    if not isfile(data_path + test_dir_name + '.zip'):\n",
    "        print (\"Please download test1.zip from kaggle!\")\n",
    "        assert(False)\n",
    "    else:\n",
    "        with zipfile.ZipFile(data_path + test_dir_name + '.zip') as azip:\n",
    "            print (\"Now to extract %s \" % (data_path + test_dir_name + '.zip'))\n",
    "            azip.extractall()\n",
    "print (\"Data is ready!\")"
   ]
  },
  {
   "cell_type": "markdown",
   "metadata": {},
   "source": [
    "## 1.1，将猫狗训练数据分开存放\n",
    "\n",
    "为了尽快实现想法，我打算采用Keras平台，因为Keras已经包含了众多知名的模型，并且可以很轻易地加载与训练权重。而且Keras也提供了很方便的工具（image generator）来帮助我们直接从硬盘加载图片到模型，这样不但减少了代码量，而且利用Keras自带的程序能够极大减少内存的浪费（相比于手动一次性加载到内存）。但是image generator需要图片已经根据类别放入不同的文件夹。所以接下来的事情就是将训练和测试样本按照类别放入不同的文件夹。采用软链接的方式可以节约硬盘和时间。"
   ]
  },
  {
   "cell_type": "code",
   "execution_count": 2,
   "metadata": {},
   "outputs": [],
   "source": [
    "train_dir = data_path + train_dir_name\n",
    "test_dir = data_path + test_dir_name\n",
    "\n",
    "## get all train filenames and test filenames\n",
    "train_filenames = os.listdir(train_dir)\n",
    "test_filenames = os.listdir(test_dir)\n",
    "\n",
    "## get all dogs and cats\n",
    "cat_names = filter(lambda x:x[:3] == 'cat', train_filenames)\n",
    "dog_names = filter(lambda x:x[:3] == 'dog', train_filenames)"
   ]
  },
  {
   "cell_type": "markdown",
   "metadata": {},
   "source": [
    "现在已经获得了文件名，现在需要另外建立一个文件夹，用于存储分开的猫狗图片。为了节省空间，这里采用建立软链接的方式来分开存储猫狗图片。"
   ]
  },
  {
   "cell_type": "code",
   "execution_count": 3,
   "metadata": {},
   "outputs": [
    {
     "name": "stdout",
     "output_type": "stream",
     "text": [
      "Build all linkage complete!\n"
     ]
    }
   ],
   "source": [
    "## check if we did that\n",
    "test_link_path = './test_link'\n",
    "test_link_data = './test_link/data'\n",
    "\n",
    "train_link_path = './train_link'\n",
    "train_link_cat = './train_link/cat'\n",
    "train_link_dog = './train_link/dog'\n",
    "\n",
    "if not isdir(test_link_path):\n",
    "    print (\"Now to build %s!\" % (test_link_path))\n",
    "    os.makedirs(test_link_path)\n",
    "    os.symlink('../' + test_dir_name, test_link_data)\n",
    "    \n",
    "if not isdir(train_link_path):\n",
    "    print (\"Now to build %s!\" % (train_link_path))\n",
    "    os.makedirs(train_link_cat)\n",
    "    os.makedirs(train_link_dog)\n",
    "    ## create link for the image\n",
    "    for file in cat_names:\n",
    "        os.symlink('../../' + train_dir_name+'/'+file, train_link_cat+'/'+file)\n",
    "    for file in dog_names:\n",
    "        os.symlink('../../' + train_dir_name+'/'+file, train_link_dog+'/'+file)\n",
    "\n",
    "print (\"Build all linkage complete!\")"
   ]
  },
  {
   "cell_type": "markdown",
   "metadata": {},
   "source": [
    "# 2, 方案1--单个模型\n",
    "\n",
    "首先我想到的第一个方案就是单个模型，在计算机视觉领域，有许多已经被证明了非常好用的模型，比如inception，resnet等，所以我接下来就是依次尝试各个模型，看看实际的效果怎么样？能否达到毕业项目的要求？并且我会预训练模型来进行训练，而不是从头训练，因为这些模型都已经在庞大的分类数据集中进行了训练，已经学习了足够的用于常用物体分类的‘知识’，因为图像的基本‘知识’是可以通用的，所以我采用迁移学习来对模型进行‘微调’，而不是从头学起。我打算采用inceptionv3,resnet-50,xception这三个模型来进行尝试。"
   ]
  },
  {
   "cell_type": "markdown",
   "metadata": {},
   "source": [
    "## 2.1 resnet-50\n",
    "\n",
    "初步采用的模型是ResNet-50，所以我们就需要按照该模型的要求来对图片进行预处理。\n",
    "现在我们需要载入预训练的ResNet-50模型，并且，由于ResNet-50模型的输出是1000维的向量，而我们的功能是二分类，所以只需要输出单一的概率即可，所以需要替换掉原始的输出层换成我们的sigmoid激活函数，include_top=False就不会加载原模型的全连接层部分。"
   ]
  },
  {
   "cell_type": "code",
   "execution_count": 4,
   "metadata": {},
   "outputs": [
    {
     "name": "stdout",
     "output_type": "stream",
     "text": [
      "Tensor(\"avg_pool/AvgPool:0\", shape=(?, 1, 1, 2048), dtype=float32)\n"
     ]
    }
   ],
   "source": [
    "from keras.applications import resnet50\n",
    "\n",
    "## resNet-50 do not need preprocessing, so the resNet_input_shape is not neccessary\n",
    "resNet_input_shape = (224,224,3)\n",
    "\n",
    "res_x = Input(shape=resNet_input_shape)\n",
    "res_x = Lambda(resnet50.preprocess_input)(res_x)\n",
    "res_model = resnet50.ResNet50(include_top=False, weights='imagenet', input_tensor=res_x, input_shape=resNet_input_shape)\n",
    "\n",
    "print (res_model.output)"
   ]
  },
  {
   "cell_type": "markdown",
   "metadata": {},
   "source": [
    "由于我们采用的预训练模型，暂时只是在ResNet-50上微调，不会对全连接层以外的其它层进行训练。所以如果每次都从上面的模型的输入端进行输入的话会产生很多重复的计算，显得不那么高效。那么这里有一个技巧，可以先把resnet-50模型的全连接层以前的输出向量（传说中的bottleneck features，以下均称为特征向量）预先计算并保存起来，由于只需要训练之后的全连接层，所以，将这些保存的特征向量作为样本，当做之后的全连接层的训练的输入就好了。"
   ]
  },
  {
   "cell_type": "code",
   "execution_count": 5,
   "metadata": {},
   "outputs": [
    {
     "name": "stdout",
     "output_type": "stream",
     "text": [
      "./vect\n"
     ]
    }
   ],
   "source": [
    "vec_dir_name = \"vect/\"\n",
    "resnet_50_vec_name = 'resnet-50.h5'\n",
    "vec_dir_path = data_path + \"vect\"\n",
    "resnet_50_vec_path = data_path + vec_dir_name + resnet_50_vec_name\n",
    "print (vec_dir_path)\n",
    "if not isdir(vec_dir_path):\n",
    "    os.makedirs(vec_dir_path)\n",
    "    print (\"Make vector dir:%s\" % (vec_dir_path))\n",
    "    \n",
    "\"\"\"\n",
    "check if the resnet-50 vector file is exist\n",
    "\"\"\"\n",
    "if not isfile(resnet_50_vec_path):\n",
    "    with h5py.File(resnet_50_vec_path, 'w') as f:\n",
    "        print (\"creating vector!!\")\n",
    "        out = GlobalAveragePooling2D()(res_model.output)\n",
    "        res_vec_model = Model(inputs=res_model.input, outputs=out)\n",
    "        \n",
    "        ## save vector\n",
    "        gen = ImageDataGenerator()\n",
    "        test_gen = ImageDataGenerator()\n",
    "        \"\"\"\n",
    "        classes = ['cat', 'dog'] -- cat is 0, dog is 1, so we need write this\n",
    "        class_mode = None -- i will not use like 'fit_fitgenerator', so i do not need labels\n",
    "        shuffle = False -- it is unneccssary\n",
    "        batch_size = 64 \n",
    "        \"\"\"\n",
    "        image_size = (224,224)\n",
    "        train_generator = gen.flow_from_directory(train_link_path, image_size, color_mode='rgb', \\\n",
    "                                                  classes=['cat', 'dog'], class_mode=None, shuffle=False, batch_size=64)\n",
    "        test_generator = test_gen.flow_from_directory(test_link_path, image_size, color_mode='rgb', \\\n",
    "                                                  class_mode=None, shuffle=False, batch_size=64)        \n",
    "        \"\"\"\n",
    "        steps = None, by default, the steps = len(generator)\n",
    "        \"\"\"\n",
    "        vector = res_vec_model.predict_generator(train_generator)\n",
    "        test_vector = res_vec_model.predict_generator(test_generator)\n",
    "        \n",
    "        f.create_dataset('x_train', data=vector)\n",
    "        f.create_dataset(\"y_train\", data=train_generator.classes)\n",
    "        f.create_dataset(\"test\", data=test_vector)\n"
   ]
  },
  {
   "cell_type": "markdown",
   "metadata": {
    "collapsed": true
   },
   "source": [
    "现在直接读取保存的特征向量进行训练，参数如下，优化器采用Adam，学习速率采用默认的0.001，batch size为32，先训练20epoch看看结果。"
   ]
  },
  {
   "cell_type": "code",
   "execution_count": 6,
   "metadata": {},
   "outputs": [
    {
     "name": "stdout",
     "output_type": "stream",
     "text": [
      "Train on 20000 samples, validate on 5000 samples\n",
      "Epoch 1/20\n",
      "20000/20000 [==============================] - 17s 848us/step - loss: 0.0758 - acc: 0.9722 - val_loss: 0.0370 - val_acc: 0.9864\n",
      "Epoch 2/20\n",
      "20000/20000 [==============================] - 3s 133us/step - loss: 0.0422 - acc: 0.9858 - val_loss: 0.0324 - val_acc: 0.9882\n",
      "Epoch 3/20\n",
      "20000/20000 [==============================] - 3s 129us/step - loss: 0.0370 - acc: 0.9865 - val_loss: 0.0331 - val_acc: 0.9882\n",
      "Epoch 4/20\n",
      "20000/20000 [==============================] - 3s 138us/step - loss: 0.0352 - acc: 0.9870 - val_loss: 0.0300 - val_acc: 0.9878\n",
      "Epoch 5/20\n",
      "20000/20000 [==============================] - 3s 130us/step - loss: 0.0316 - acc: 0.9886 - val_loss: 0.0318 - val_acc: 0.9880\n",
      "Epoch 6/20\n",
      "20000/20000 [==============================] - 3s 128us/step - loss: 0.0335 - acc: 0.9879 - val_loss: 0.0276 - val_acc: 0.9902\n",
      "Epoch 7/20\n",
      "20000/20000 [==============================] - 3s 126us/step - loss: 0.0307 - acc: 0.9897 - val_loss: 0.0312 - val_acc: 0.9894\n",
      "Epoch 8/20\n",
      "20000/20000 [==============================] - 3s 127us/step - loss: 0.0321 - acc: 0.9893 - val_loss: 0.0331 - val_acc: 0.9886\n",
      "Epoch 9/20\n",
      "20000/20000 [==============================] - 3s 132us/step - loss: 0.0331 - acc: 0.9883 - val_loss: 0.0339 - val_acc: 0.9888\n",
      "Epoch 10/20\n",
      "20000/20000 [==============================] - 3s 130us/step - loss: 0.0294 - acc: 0.9890 - val_loss: 0.0338 - val_acc: 0.9884\n",
      "Epoch 11/20\n",
      "20000/20000 [==============================] - 3s 130us/step - loss: 0.0305 - acc: 0.9890 - val_loss: 0.0322 - val_acc: 0.9884\n",
      "Epoch 12/20\n",
      "20000/20000 [==============================] - 3s 129us/step - loss: 0.0307 - acc: 0.9891 - val_loss: 0.0345 - val_acc: 0.9868\n",
      "Epoch 13/20\n",
      "20000/20000 [==============================] - 3s 132us/step - loss: 0.0315 - acc: 0.9888 - val_loss: 0.0320 - val_acc: 0.9900\n",
      "Epoch 14/20\n",
      "20000/20000 [==============================] - 3s 125us/step - loss: 0.0313 - acc: 0.9890 - val_loss: 0.0303 - val_acc: 0.9902\n",
      "Epoch 15/20\n",
      "20000/20000 [==============================] - 3s 132us/step - loss: 0.0319 - acc: 0.9890 - val_loss: 0.0306 - val_acc: 0.9894\n",
      "Epoch 16/20\n",
      "20000/20000 [==============================] - 3s 128us/step - loss: 0.0314 - acc: 0.9888 - val_loss: 0.0345 - val_acc: 0.9894\n",
      "Epoch 17/20\n",
      "20000/20000 [==============================] - 3s 130us/step - loss: 0.0332 - acc: 0.9891 - val_loss: 0.0317 - val_acc: 0.9904\n",
      "Epoch 18/20\n",
      "20000/20000 [==============================] - 3s 131us/step - loss: 0.0317 - acc: 0.9891 - val_loss: 0.0347 - val_acc: 0.9884\n",
      "Epoch 19/20\n",
      "20000/20000 [==============================] - 3s 128us/step - loss: 0.0294 - acc: 0.9900 - val_loss: 0.0340 - val_acc: 0.9890\n",
      "Epoch 20/20\n",
      "20000/20000 [==============================] - 3s 128us/step - loss: 0.0293 - acc: 0.9909 - val_loss: 0.0422 - val_acc: 0.9854\n"
     ]
    }
   ],
   "source": [
    "import numpy as np\n",
    "from sklearn.utils import shuffle\n",
    "\n",
    "\n",
    "with h5py.File(resnet_50_vec_path, 'r') as f:\n",
    "    x_train = np.array(f['x_train'])\n",
    "    y_train = np.array(f['y_train'])\n",
    "    x_train, y_train = shuffle(x_train, y_train, random_state=0)\n",
    "    \n",
    "input_tensor = Input(shape=(2048,))\n",
    "x = Dropout(0.4)(input_tensor)\n",
    "x = Dense(1, activation='sigmoid', name='res_dense_1')(x)\n",
    "\n",
    "res_top_model = Model(inputs=input_tensor, outputs=x)\n",
    "\n",
    "res_top_model.compile(optimizer='adam', loss='binary_crossentropy', metrics=['accuracy'])\n",
    "\n",
    "hist = res_top_model.fit(x_train, y_train, batch_size=32, epochs=20, validation_split=0.2)"
   ]
  },
  {
   "cell_type": "markdown",
   "metadata": {},
   "source": [
    "上面的结果看起来还不错，待会儿再在测试集上得出结果提交到kaggle。其实在得到这个结果之前犯了一个错误，就是从文件中读取出来x_train和y_train之后，没有对样本进行shuffle。导致验证集的loss在0.2到0.7不断地跳动，我刚开始还以为只是模型的结构引起的过拟合，所以修改了dropout的rate，将其变大，也就是丢弃的几率变大。而且还在输出层对参数加了一个L2的正则化。但是几乎没有效果。所以我就意识到，可能不是模型的问题。然后在群上看他们聊天聊到shuffle，我恍然大悟，原来是我读出来的时候没有进行shuffle，现在就好了。"
   ]
  },
  {
   "cell_type": "code",
   "execution_count": 7,
   "metadata": {},
   "outputs": [
    {
     "data": {
      "text/plain": [
       "<Figure size 640x480 with 1 Axes>"
      ]
     },
     "metadata": {},
     "output_type": "display_data"
    },
    {
     "data": {
      "text/plain": [
       "<Figure size 640x480 with 1 Axes>"
      ]
     },
     "metadata": {},
     "output_type": "display_data"
    }
   ],
   "source": [
    "import matplotlib.pyplot as plt\n",
    "\n",
    "def show_loss(hist, title='loss'):\n",
    "    # show the training and validation loss\n",
    "    plt.plot(hist.history['val_loss'], label=\"validation loss\")\n",
    "    plt.plot(hist.history['loss'], label=\"train loss\")\n",
    "    plt.ylabel('loss')\n",
    "    plt.xlabel('epoch')\n",
    "    plt.title(title)\n",
    "    plt.legend()\n",
    "    plt.show()\n",
    "def show_acc(hist, title='accuracy'):\n",
    "    # show the training and validation loss\n",
    "    plt.plot(hist.history['val_acc'], label=\"validation accuracy\")\n",
    "    plt.plot(hist.history['acc'], label=\"train accuracy\")\n",
    "    plt.ylabel('accuracy')\n",
    "    plt.xlabel('epoch')\n",
    "    plt.title(title)\n",
    "    plt.legend()\n",
    "    plt.show()\n",
    "\n",
    "show_loss(hist)\n",
    "show_acc(hist)"
   ]
  },
  {
   "cell_type": "markdown",
   "metadata": {},
   "source": [
    "模型训练完了之后，应该对测试集进行预测，并且声称csv格式的结果文件提交kaggle，从而得到模型的得分。其实文档的格式很简单，就是对测试集的每张图片的预测结果（也就是这张图片是狗的概率，注意不是0或者1哟！是类似0.99  0.11之类的概率值！），我写了一个专门的接口函数来完成预测以及结果文件的生成"
   ]
  },
  {
   "cell_type": "code",
   "execution_count": 8,
   "metadata": {},
   "outputs": [
    {
     "name": "stdout",
     "output_type": "stream",
     "text": [
      "Found 12500 images belonging to 1 classes.\n",
      "test result file resnet-50.csv generated!\n"
     ]
    }
   ],
   "source": [
    "import pandas as pd\n",
    "\n",
    "def get_test_result(model_obj, test_vec_path, image_size, model_name=\"\"):\n",
    "    with h5py.File(test_vec_path, 'r') as f:\n",
    "        x_test = np.array(f['test'])\n",
    "\n",
    "    pred_test = model_obj.predict(x_test)\n",
    "    pred_test = pred_test.clip(min=0.005, max=0.995)\n",
    "    \n",
    "    df = pd.read_csv(\"sampleSubmission.csv\")\n",
    "\n",
    "    gen = ImageDataGenerator()\n",
    "    test_generator = gen.flow_from_directory(test_link_path, image_size, color_mode='rgb',\n",
    "                                             shuffle=False, batch_size=64, class_mode=None)\n",
    "\n",
    "    for i, fname in enumerate(test_generator.filenames):\n",
    "        index = int(fname[fname.rfind('/')+1:fname.rfind('.')])\n",
    "        #df.set_value(index-1, 'label', y_pred[i])\n",
    "        df.loc[index-1, 'label'] = pred_test[i]\n",
    "    \n",
    "    df.to_csv('%s.csv' % (model_name), index=None)\n",
    "    print ('test result file %s.csv generated!' % (model_name))\n",
    "    df.head(10)\n",
    "\n",
    "get_test_result(res_top_model, resnet_50_vec_path, (224, 224), model_name=\"resnet-50\")"
   ]
  },
  {
   "cell_type": "markdown",
   "metadata": {},
   "source": [
    "这次提交了kaggle之后，loss为0.053。resnet-50模型先暂时不试了。先把模型参数和参数保存起来。由于是预训练模型，所以就不需要保存resnet-50部分，只保存添加的输出层参数就好了。"
   ]
  },
  {
   "cell_type": "code",
   "execution_count": 9,
   "metadata": {},
   "outputs": [],
   "source": [
    "res_top_model.save('resnet-50.h5')"
   ]
  },
  {
   "cell_type": "markdown",
   "metadata": {},
   "source": [
    "## 2.2 inceptionv3\n",
    "\n",
    "接下尝试的是inceptionv3模型。因为以后还会尝试更多的模型，所以这里需要写一个通用的函数，而不是像之前resnet那样很分散。下面这个函数用于各种模型的特征向量的提取。"
   ]
  },
  {
   "cell_type": "code",
   "execution_count": 10,
   "metadata": {},
   "outputs": [],
   "source": [
    "from keras.layers import Input\n",
    "from keras.layers.core import Lambda\n",
    "\n",
    "def model_vector_catch(MODEL, image_size, file_name, preprocessing=None):\n",
    "    vec_dir = 'vect/'\n",
    "\n",
    "    input_tensor = Input(shape=(image_size[0], image_size[1], 3))\n",
    "    if preprocessing:\n",
    "        ## check if need preprocessing\n",
    "        input_tensor = Lambda(preprocessing)(input_tensor)\n",
    "    model_no_top = MODEL(include_top=False, weights='imagenet', input_tensor=input_tensor, input_shape=(image_size[0], image_size[1], 3))\n",
    "    ## flatten the output shape and generate model\n",
    "    out = GlobalAveragePooling2D()(model_no_top.output)\n",
    "    new_model = Model(inputs=model_no_top.input, outputs=out)\n",
    "    \n",
    "    ## get iamge generator\n",
    "    gen = ImageDataGenerator()\n",
    "    test_gen = ImageDataGenerator()\n",
    "    \"\"\"\n",
    "    classes = ['cat', 'dog'] -- cat is 0, dog is 1, so we need write this\n",
    "    class_mode = None -- i will not use like 'fit_fitgenerator', so i do not need labels\n",
    "    shuffle = False -- it is unneccssary\n",
    "    batch_size = 64 \n",
    "    \"\"\"\n",
    "    train_generator = gen.flow_from_directory(train_link_path, image_size, color_mode='rgb', \\\n",
    "                                              classes=['cat', 'dog'], class_mode=None, shuffle=False, batch_size=64)\n",
    "    test_generator = test_gen.flow_from_directory(test_link_path, image_size, color_mode='rgb', \\\n",
    "                                          class_mode=None, shuffle=False, batch_size=64)\n",
    "    \"\"\"\n",
    "    steps = None, by default, the steps = len(generator)\n",
    "    \"\"\"\n",
    "    train_vector = new_model.predict_generator(train_generator)\n",
    "    test_vector = new_model.predict_generator(test_generator)\n",
    "    \n",
    "    with h5py.File(vec_dir + (\"%s.h5\" % (file_name)), 'w') as f: \n",
    "        f.create_dataset('x_train', data=train_vector)\n",
    "        f.create_dataset(\"y_train\", data=train_generator.classes)\n",
    "        f.create_dataset(\"test\", data=test_vector)\n",
    "    print (\"Model %s vector cached complete!\" % (file_name))"
   ]
  },
  {
   "cell_type": "code",
   "execution_count": 11,
   "metadata": {},
   "outputs": [
    {
     "name": "stdout",
     "output_type": "stream",
     "text": [
      "Found 25000 images belonging to 2 classes.\n",
      "Found 12500 images belonging to 1 classes.\n",
      "Model inceptionv3 vector cached complete!\n"
     ]
    }
   ],
   "source": [
    "from keras.applications import inception_v3\n",
    "\n",
    "inceptionv3_vec_path = 'vect/inceptionv3.h5'\n",
    "\n",
    "if not isfile(inceptionv3_vec_path):\n",
    "    model_vector_catch(inception_v3.InceptionV3, (299, 299), 'inceptionv3', inception_v3.preprocess_input)"
   ]
  },
  {
   "cell_type": "markdown",
   "metadata": {},
   "source": [
    "同样，我们先搭建模型，然后进行迁移学习。由于inceptionv3在全连接层之前的输出维度是(?, 1, 1, 2048)，所以新搭建的模型的输入维度是2048.\n",
    "\n",
    "inception v3论文上说其训练时候采用的是RMSProp，初始学习速率为0.045，rho=0.9, epsilon=1.0（确定吗？但是论文上是这样写的），decay采用指数衰减，每两个epoch衰减一次。指数衰减的公式如下：decayed_learning_rate = lr_base * decay_rate ^ (global_step / decay_steps)  \n",
    "\n",
    "但是我有一个问题，论文中给出的训练的建议是基于ImageNet的训练集，并且作者是训练整体的模型，但是现在是在猫狗数据上进行训练，而且并没有对整体的模型进行训练，那我们是否应该采用论文中的建议的训练方式，下面尝试一下就知道了。"
   ]
  },
  {
   "cell_type": "code",
   "execution_count": 12,
   "metadata": {},
   "outputs": [],
   "source": [
    "import numpy as np\n",
    "from sklearn.utils import shuffle\n",
    "\n",
    "with h5py.File(inceptionv3_vec_path, 'r') as f:\n",
    "    x_train = np.array(f['x_train'])\n",
    "    y_train = np.array(f['y_train'])\n",
    "    x_train, y_train = shuffle(x_train, y_train, random_state=0)"
   ]
  },
  {
   "cell_type": "code",
   "execution_count": 28,
   "metadata": {},
   "outputs": [
    {
     "name": "stdout",
     "output_type": "stream",
     "text": [
      "Train on 20000 samples, validate on 5000 samples\n",
      "Epoch 1/30\n",
      "Epoch 0 , new lr==0.000200\n",
      "20000/20000 [==============================] - 6s 286us/step - loss: 0.1802 - acc: 0.9615 - val_loss: 0.0443 - val_acc: 0.9910\n",
      "Epoch 2/30\n",
      "Epoch 1 , new lr==0.000200\n",
      "20000/20000 [==============================] - 2s 124us/step - loss: 0.0378 - acc: 0.9918 - val_loss: 0.0289 - val_acc: 0.9920\n",
      "Epoch 3/30\n",
      "Epoch 2 , new lr==0.000188\n",
      "20000/20000 [==============================] - 3s 126us/step - loss: 0.0293 - acc: 0.9924 - val_loss: 0.0251 - val_acc: 0.9922\n",
      "Epoch 4/30\n",
      "Epoch 3 , new lr==0.000188\n",
      "20000/20000 [==============================] - 2s 124us/step - loss: 0.0256 - acc: 0.9924 - val_loss: 0.0233 - val_acc: 0.9928\n",
      "Epoch 5/30\n",
      "Epoch 4 , new lr==0.000177\n",
      "20000/20000 [==============================] - 2s 122us/step - loss: 0.0241 - acc: 0.9931 - val_loss: 0.0220 - val_acc: 0.9934\n",
      "Epoch 6/30\n",
      "Epoch 5 , new lr==0.000177\n",
      "20000/20000 [==============================] - 2s 124us/step - loss: 0.0242 - acc: 0.9927 - val_loss: 0.0215 - val_acc: 0.9936\n",
      "Epoch 7/30\n",
      "Epoch 6 , new lr==0.000166\n",
      "20000/20000 [==============================] - 3s 126us/step - loss: 0.0220 - acc: 0.9932 - val_loss: 0.0211 - val_acc: 0.9936\n",
      "Epoch 8/30\n",
      "Epoch 7 , new lr==0.000166\n",
      "20000/20000 [==============================] - 2s 124us/step - loss: 0.0214 - acc: 0.9936 - val_loss: 0.0208 - val_acc: 0.9940\n",
      "Epoch 9/30\n",
      "Epoch 8 , new lr==0.000156\n",
      "20000/20000 [==============================] - 2s 124us/step - loss: 0.0214 - acc: 0.9931 - val_loss: 0.0210 - val_acc: 0.9936\n",
      "Epoch 10/30\n",
      "Epoch 9 , new lr==0.000156\n",
      "20000/20000 [==============================] - 3s 127us/step - loss: 0.0213 - acc: 0.9933 - val_loss: 0.0205 - val_acc: 0.9940\n",
      "Epoch 11/30\n",
      "Epoch 10 , new lr==0.000147\n",
      "20000/20000 [==============================] - 3s 126us/step - loss: 0.0215 - acc: 0.9935 - val_loss: 0.0204 - val_acc: 0.9944\n",
      "Epoch 12/30\n",
      "Epoch 11 , new lr==0.000147\n",
      "20000/20000 [==============================] - 2s 124us/step - loss: 0.0200 - acc: 0.9940 - val_loss: 0.0204 - val_acc: 0.9940\n",
      "Epoch 13/30\n",
      "Epoch 12 , new lr==0.000138\n",
      "20000/20000 [==============================] - 3s 128us/step - loss: 0.0198 - acc: 0.9940 - val_loss: 0.0203 - val_acc: 0.9942\n",
      "Epoch 14/30\n",
      "Epoch 13 , new lr==0.000138\n",
      "20000/20000 [==============================] - 2s 124us/step - loss: 0.0206 - acc: 0.9942 - val_loss: 0.0203 - val_acc: 0.9942\n",
      "Epoch 15/30\n",
      "Epoch 14 , new lr==0.000130\n",
      "20000/20000 [==============================] - 3s 128us/step - loss: 0.0212 - acc: 0.9935 - val_loss: 0.0202 - val_acc: 0.9942\n",
      "Epoch 16/30\n",
      "Epoch 15 , new lr==0.000130\n",
      "20000/20000 [==============================] - 3s 129us/step - loss: 0.0206 - acc: 0.9940 - val_loss: 0.0202 - val_acc: 0.9946\n",
      "Epoch 17/30\n",
      "Epoch 16 , new lr==0.000122\n",
      "20000/20000 [==============================] - 3s 132us/step - loss: 0.0190 - acc: 0.9942 - val_loss: 0.0202 - val_acc: 0.9944\n",
      "Epoch 18/30\n",
      "Epoch 17 , new lr==0.000122\n",
      "20000/20000 [==============================] - 3s 134us/step - loss: 0.0188 - acc: 0.9939 - val_loss: 0.0202 - val_acc: 0.9944\n",
      "Epoch 19/30\n",
      "Epoch 18 , new lr==0.000115\n",
      "20000/20000 [==============================] - 3s 130us/step - loss: 0.0198 - acc: 0.9940 - val_loss: 0.0202 - val_acc: 0.9944\n",
      "Epoch 20/30\n",
      "Epoch 19 , new lr==0.000115\n",
      "20000/20000 [==============================] - 3s 133us/step - loss: 0.0211 - acc: 0.9936 - val_loss: 0.0202 - val_acc: 0.9944\n",
      "Epoch 21/30\n",
      "Epoch 20 , new lr==0.000108\n",
      "20000/20000 [==============================] - 3s 132us/step - loss: 0.0194 - acc: 0.9937 - val_loss: 0.0201 - val_acc: 0.9942\n",
      "Epoch 22/30\n",
      "Epoch 21 , new lr==0.000108\n",
      "20000/20000 [==============================] - 3s 127us/step - loss: 0.0194 - acc: 0.9941 - val_loss: 0.0202 - val_acc: 0.9944\n",
      "Epoch 23/30\n",
      "Epoch 22 , new lr==0.000101\n",
      "20000/20000 [==============================] - 3s 135us/step - loss: 0.0201 - acc: 0.9937 - val_loss: 0.0201 - val_acc: 0.9944\n",
      "Epoch 24/30\n",
      "Epoch 23 , new lr==0.000101\n",
      "20000/20000 [==============================] - 3s 130us/step - loss: 0.0197 - acc: 0.9944 - val_loss: 0.0201 - val_acc: 0.9942\n",
      "Epoch 25/30\n",
      "Epoch 24 , new lr==0.000095\n",
      "20000/20000 [==============================] - 3s 128us/step - loss: 0.0198 - acc: 0.9937 - val_loss: 0.0202 - val_acc: 0.9944\n",
      "Epoch 26/30\n",
      "Epoch 25 , new lr==0.000095\n",
      "20000/20000 [==============================] - 3s 133us/step - loss: 0.0194 - acc: 0.9937 - val_loss: 0.0202 - val_acc: 0.9942\n",
      "Epoch 27/30\n",
      "Epoch 26 , new lr==0.000089\n",
      "20000/20000 [==============================] - 3s 128us/step - loss: 0.0199 - acc: 0.9940 - val_loss: 0.0202 - val_acc: 0.9942\n",
      "Epoch 28/30\n",
      "Epoch 27 , new lr==0.000089\n",
      "20000/20000 [==============================] - 3s 134us/step - loss: 0.0202 - acc: 0.9940 - val_loss: 0.0202 - val_acc: 0.9946\n",
      "Epoch 29/30\n",
      "Epoch 28 , new lr==0.000084\n",
      "20000/20000 [==============================] - 3s 132us/step - loss: 0.0185 - acc: 0.9943 - val_loss: 0.0202 - val_acc: 0.9942\n",
      "Epoch 30/30\n",
      "Epoch 29 , new lr==0.000084\n",
      "20000/20000 [==============================] - 3s 127us/step - loss: 0.0193 - acc: 0.9942 - val_loss: 0.0202 - val_acc: 0.9942\n"
     ]
    }
   ],
   "source": [
    "from keras.optimizers import RMSprop\n",
    "from keras.callbacks import LearningRateScheduler\n",
    "import math\n",
    "    \n",
    "input_tensor = Input(shape=(2048,))\n",
    "x = Dropout(0.5)(input_tensor)\n",
    "x = Dense(1, activation='sigmoid', name='inc_dense_1')(x)\n",
    "\n",
    "inceptionv3_model = Model(inputs=input_tensor, outputs=x)\n",
    "\n",
    "#optimizer\n",
    "#lr_base = 0.045\n",
    "lr_base = 0.0002\n",
    "decay_rate = 0.94\n",
    "decay_steps = 2\n",
    "#opt = RMSprop(lr=lr_base, rho=0.9, epsilon=1.0)\n",
    "opt = RMSprop(lr=lr_base, rho=0.9)\n",
    "\n",
    "# exponential rate decay:decayed_learning_rate = lr_base * decay_rate ^ (global_step / decay_steps)\n",
    "def lr_scheduler(epoch):\n",
    "    # calculate the new learning rate according to epoch number\n",
    "    lr = lr_base * ((decay_rate)**math.floor(epoch/decay_steps))\n",
    "    print (\"Epoch %d , new lr==%f\" % (epoch, lr))    \n",
    "    \n",
    "    return lr\n",
    "\n",
    "scheduler = LearningRateScheduler(lr_scheduler)\n",
    "inceptionv3_model.compile(optimizer=opt, loss='binary_crossentropy', metrics=['accuracy'])\n",
    "\n",
    "hist = inceptionv3_model.fit(x_train, y_train, batch_size=32, epochs=30, validation_split=0.2, callbacks=[scheduler])"
   ]
  },
  {
   "cell_type": "code",
   "execution_count": 29,
   "metadata": {},
   "outputs": [
    {
     "data": {
      "image/png": "[encoded data removed]",
      "text/plain": [
       "<Figure size 432x288 with 1 Axes>"
      ]
     },
     "metadata": {},
     "output_type": "display_data"
    },
    {
     "data": {
      "image/png": "[encoded data removed]",
      "text/plain": [
       "<Figure size 432x288 with 1 Axes>"
      ]
     },
     "metadata": {},
     "output_type": "display_data"
    }
   ],
   "source": [
    "show_loss(hist)\n",
    "show_acc(hist)"
   ]
  },
  {
   "cell_type": "markdown",
   "metadata": {
    "collapsed": true
   },
   "source": [
    "可以看到，如果按照论文上的训练方法训练效果还是很不错的，现在就来看看该模型的评分吧！"
   ]
  },
  {
   "cell_type": "code",
   "execution_count": 30,
   "metadata": {},
   "outputs": [
    {
     "name": "stdout",
     "output_type": "stream",
     "text": [
      "Found 12500 images belonging to 1 classes.\n",
      "test result file inceptionv3.csv generated!\n"
     ]
    }
   ],
   "source": [
    "get_test_result(inceptionv3_model, inceptionv3_vec_path, (299, 299), model_name=\"inceptionv3\")"
   ]
  },
  {
   "cell_type": "markdown",
   "metadata": {},
   "source": [
    "提交kaggle之后，发现获得的分数为0.04074，在leaderboard中可以排名到第17名，也就是在2%以内。同样，我们保存该模型与权重。"
   ]
  },
  {
   "cell_type": "code",
   "execution_count": 31,
   "metadata": {},
   "outputs": [],
   "source": [
    "inceptionv3_model.save('model_inceptionv3.h5')"
   ]
  },
  {
   "cell_type": "markdown",
   "metadata": {},
   "source": [
    "## 2.3 xception\n",
    "接下来我将尝试xception模型，出了预处理函数和图片上输出尺寸需要改动外，其他均和上述过程一致"
   ]
  },
  {
   "cell_type": "code",
   "execution_count": null,
   "metadata": {},
   "outputs": [
    {
     "name": "stdout",
     "output_type": "stream",
     "text": [
      "Found 25000 images belonging to 2 classes.\n",
      "Found 12500 images belonging to 1 classes.\n"
     ]
    }
   ],
   "source": [
    "from keras.applications import xception\n",
    "\n",
    "xception_vec_path = 'vect/xception.h5'\n",
    "\n",
    "if not isfile(xception_vec_path):\n",
    "    model_vector_catch(xception.Xception, (299, 299), 'xception', xception.preprocess_input)"
   ]
  },
  {
   "cell_type": "code",
   "execution_count": null,
   "metadata": {},
   "outputs": [],
   "source": [
    "with h5py.File(xception_vec_path, 'r') as f:\n",
    "    x_train = np.array(f['x_train'])\n",
    "    y_train = np.array(f['y_train'])\n",
    "    x_train, y_train = shuffle(x_train, y_train, random_state=0)"
   ]
  },
  {
   "cell_type": "markdown",
   "metadata": {},
   "source": [
    "对于训练方式，我还是选择与inceptionv3一样的训练方式"
   ]
  },
  {
   "cell_type": "code",
   "execution_count": null,
   "metadata": {
    "scrolled": true
   },
   "outputs": [],
   "source": [
    "from keras.optimizers import RMSprop\n",
    "from keras.callbacks import LearningRateScheduler\n",
    "import math\n",
    "    \n",
    "input_tensor = Input(shape=(2048,))\n",
    "x = Dropout(0.5)(input_tensor)\n",
    "x = Dense(1, activation='sigmoid', name='xce_dense_1')(x)\n",
    "\n",
    "xception_model = Model(inputs=input_tensor, outputs=x)\n",
    "\n",
    "#optimizer\n",
    "#lr_base = 0.045\n",
    "lr_base = 0.0002\n",
    "decay_rate = 0.94\n",
    "decay_steps = 2\n",
    "#opt = RMSprop(lr=lr_base, rho=0.9, epsilon=1.0)\n",
    "opt = RMSprop(lr=lr_base, rho=0.9)\n",
    "\n",
    "# exponential rate decay:decayed_learning_rate = lr_base * decay_rate ^ (global_step / decay_steps)\n",
    "def lr_scheduler(epoch):\n",
    "    # calculate the new learning rate according to epoch number\n",
    "    lr = lr_base * ((decay_rate)**math.floor(epoch/decay_steps))\n",
    "    print (\"Epoch %d , new lr==%f\" % (epoch, lr))    \n",
    "    \n",
    "    return lr\n",
    "\n",
    "scheduler = LearningRateScheduler(lr_scheduler)\n",
    "xception_model.compile(optimizer=opt, loss='binary_crossentropy', metrics=['accuracy'])\n",
    "\n",
    "hist = xception_model.fit(x_train, y_train, batch_size=32, epochs=30, validation_split=0.2, callbacks=[scheduler])"
   ]
  },
  {
   "cell_type": "markdown",
   "metadata": {},
   "source": [
    "可视化fit过程"
   ]
  },
  {
   "cell_type": "code",
   "execution_count": null,
   "metadata": {},
   "outputs": [],
   "source": [
    "show_loss(hist)\n",
    "show_acc(hist)"
   ]
  },
  {
   "cell_type": "code",
   "execution_count": null,
   "metadata": {},
   "outputs": [],
   "source": [
    "get_test_result(xception_model, xception_vec_path, (299, 299), model_name=\"xception\")"
   ]
  },
  {
   "cell_type": "markdown",
   "metadata": {},
   "source": [
    "xception在测试集上的分数是0.04138，结果和inceptionv3差不多"
   ]
  },
  {
   "cell_type": "markdown",
   "metadata": {},
   "source": [
    "# 3 模型的集成\n",
    "\n",
    "我们知道，在机器学习中有一种技巧叫做集成学习，不知道其是否适用于深度学习，集成学习的思想就是三个臭皮匠顶个诸葛亮，让多个模型来进行投票，遵循少数服从多数的原则来产生预测结果，可以使预测结果更加平滑，准确，坏处就是可能会增加预测的时间，但是既然kaggle没有提到有模型预测时间的要求，那么我们就可以尝试一些集成学习。\n",
    "\n",
    "在这里我简单地尝试一下uniform blending的集成方式，然后采用取三个模型的输出值的平均值作为集成的最终输出（而不是所谓的‘投票’，因为kaggle需要输出概率值而不是投票结果）。\n",
    "\n",
    "注意：uniform blending集成方法的假设是我们的三个基准模型本身拥有diversity，这样才会有好的结果。我不清楚我的这三个模型知否符合这样的要求。而且集成方法的效果总是会随着基准模型的数量的增多而变好，所以我也不清楚3个模型到底够不够。既然不懂，就尝试嘛！"
   ]
  },
  {
   "cell_type": "markdown",
   "metadata": {},
   "source": [
    "创建集成模型，由于网络结构比较简答，就没有必要像之前的bottleneck features那样预先保存向量了，直接将之前训练好的三个模型的输出层合并求平均就好了。"
   ]
  },
  {
   "cell_type": "code",
   "execution_count": 27,
   "metadata": {},
   "outputs": [
    {
     "ename": "RuntimeError",
     "evalue": "('The name \"res_dense_1\" is used 2 times in the model. All layer names should be unique. Layer names: ', ['input_4', 'input_6', 'dropout_2', 'dropout_3', 'res_dense_1', 'res_dense_1', 'average_2'])",
     "output_type": "error",
     "traceback": [
      "\u001b[0;31m---------------------------------------------------------------------------\u001b[0m",
      "\u001b[0;31mRuntimeError\u001b[0m                              Traceback (most recent call last)",
      "\u001b[0;32m<ipython-input-27-9dce822b2bfa>\u001b[0m in \u001b[0;36m<module>\u001b[0;34m()\u001b[0m\n\u001b[1;32m     17\u001b[0m \u001b[0magg_out\u001b[0m \u001b[0;34m=\u001b[0m \u001b[0mAverage\u001b[0m\u001b[0;34m(\u001b[0m\u001b[0;34m)\u001b[0m\u001b[0;34m(\u001b[0m\u001b[0;34m[\u001b[0m\u001b[0minceptionv3_output\u001b[0m\u001b[0;34m,\u001b[0m \u001b[0mxception_output\u001b[0m\u001b[0;34m]\u001b[0m\u001b[0;34m)\u001b[0m\u001b[0;34m\u001b[0m\u001b[0m\n\u001b[1;32m     18\u001b[0m \u001b[0;34m\u001b[0m\u001b[0m\n\u001b[0;32m---> 19\u001b[0;31m \u001b[0magg_model\u001b[0m \u001b[0;34m=\u001b[0m \u001b[0mModel\u001b[0m\u001b[0;34m(\u001b[0m\u001b[0minputs\u001b[0m\u001b[0;34m=\u001b[0m\u001b[0;34m[\u001b[0m\u001b[0mresnet50_input\u001b[0m\u001b[0;34m,\u001b[0m \u001b[0minceptionv3_input\u001b[0m\u001b[0;34m,\u001b[0m \u001b[0mxception_input\u001b[0m\u001b[0;34m]\u001b[0m\u001b[0;34m,\u001b[0m \u001b[0moutputs\u001b[0m\u001b[0;34m=\u001b[0m\u001b[0magg_out\u001b[0m\u001b[0;34m)\u001b[0m\u001b[0;34m\u001b[0m\u001b[0m\n\u001b[0m",
      "\u001b[0;32m~/anaconda3/lib/python3.6/site-packages/keras/legacy/interfaces.py\u001b[0m in \u001b[0;36mwrapper\u001b[0;34m(*args, **kwargs)\u001b[0m\n\u001b[1;32m     89\u001b[0m                 warnings.warn('Update your `' + object_name +\n\u001b[1;32m     90\u001b[0m                               '` call to the Keras 2 API: ' + signature, stacklevel=2)\n\u001b[0;32m---> 91\u001b[0;31m             \u001b[0;32mreturn\u001b[0m \u001b[0mfunc\u001b[0m\u001b[0;34m(\u001b[0m\u001b[0;34m*\u001b[0m\u001b[0margs\u001b[0m\u001b[0;34m,\u001b[0m \u001b[0;34m**\u001b[0m\u001b[0mkwargs\u001b[0m\u001b[0;34m)\u001b[0m\u001b[0;34m\u001b[0m\u001b[0m\n\u001b[0m\u001b[1;32m     92\u001b[0m         \u001b[0mwrapper\u001b[0m\u001b[0;34m.\u001b[0m\u001b[0m_original_function\u001b[0m \u001b[0;34m=\u001b[0m \u001b[0mfunc\u001b[0m\u001b[0;34m\u001b[0m\u001b[0m\n\u001b[1;32m     93\u001b[0m         \u001b[0;32mreturn\u001b[0m \u001b[0mwrapper\u001b[0m\u001b[0;34m\u001b[0m\u001b[0m\n",
      "\u001b[0;32m~/anaconda3/lib/python3.6/site-packages/keras/engine/topology.py\u001b[0m in \u001b[0;36m__init__\u001b[0;34m(self, inputs, outputs, name)\u001b[0m\n\u001b[1;32m   1827\u001b[0m                                    \u001b[0;34m' times in the model. '\u001b[0m\u001b[0;34m\u001b[0m\u001b[0m\n\u001b[1;32m   1828\u001b[0m                                    \u001b[0;34m'All layer names should be unique. '\u001b[0m\u001b[0;34m\u001b[0m\u001b[0m\n\u001b[0;32m-> 1829\u001b[0;31m                                    'Layer names: ', all_names)\n\u001b[0m\u001b[1;32m   1830\u001b[0m \u001b[0;34m\u001b[0m\u001b[0m\n\u001b[1;32m   1831\u001b[0m         \u001b[0;31m# Layer parameters.\u001b[0m\u001b[0;34m\u001b[0m\u001b[0;34m\u001b[0m\u001b[0m\n",
      "\u001b[0;31mRuntimeError\u001b[0m: ('The name \"res_dense_1\" is used 2 times in the model. All layer names should be unique. Layer names: ', ['input_4', 'input_6', 'dropout_2', 'dropout_3', 'res_dense_1', 'res_dense_1', 'average_2'])"
     ]
    }
   ],
   "source": [
    " from keras.layers import Average\n",
    "\n",
    "## resnet_50\n",
    "resnet50_input = res_top_model.input\n",
    "resnet50_output = res_top_model.output\n",
    "\n",
    "##inception_v3\n",
    "inceptionv3_input = inceptionv3_model.input\n",
    "inceptionv3_output = inceptionv3_model.output\n",
    "\n",
    "##xception\n",
    "xception_input = xception_model.input\n",
    "xception_output = xception_model.output\n",
    "\n",
    "#agg_out = (resnet50_output + inceptionv3_output + xception_output)/3\n",
    "#agg_out = K.divide(K.add(K.add(resnet50_output, inceptionv3_output), xception_output), 3.0)\n",
    "agg_out = Average()([resnet50_output, inceptionv3_output, xception_output])\n",
    "\n",
    "agg_model = Model(inputs=[resnet50_input, inceptionv3_input, xception_input], outputs=agg_out)"
   ]
  },
  {
   "cell_type": "markdown",
   "metadata": {},
   "source": [
    "定义一个函数，方便获取各个不同基准模型的bottleneck features。"
   ]
  },
  {
   "cell_type": "code",
   "execution_count": 1,
   "metadata": {
    "collapsed": true
   },
   "outputs": [],
   "source": [
    "def get_bottleneck_features(path):\n",
    "    ## get bottleneck features\n",
    "    with h5py.File(path, 'r') as f:\n",
    "        x_train = np.array(f['x_train'])\n",
    "        y_train = np.array(f['y_train'])\n",
    "        x_test = np.array(f['test'])\n",
    "        return x_train,  y_train, test"
   ]
  },
  {
   "cell_type": "markdown",
   "metadata": {},
   "source": [
    "现在再获取各个基准模型的bottleneck features，作为集成模型的输入"
   ]
  },
  {
   "cell_type": "code",
   "execution_count": null,
   "metadata": {
    "collapsed": true
   },
   "outputs": [],
   "source": [
    "## resnet 50\n",
    "res_x_train, res_y_train, res_test = get_bottleneck_features(resnet_50_vec_path)\n",
    "\n",
    "## inception v3\n",
    "inc_x_train, inc_y_train, inc_test = get_bottleneck_features(inceptionv3_vec_path)\n",
    "\n",
    "## xception\n",
    "xce_x_train, xce_y_train, xce_test = get_bottleneck_features(xception_vec_path)"
   ]
  },
  {
   "cell_type": "markdown",
   "metadata": {},
   "source": [
    "因为没有任何参数需要优化，所以无需训练，我们现在evaluation来看看结果如何"
   ]
  },
  {
   "cell_type": "code",
   "execution_count": null,
   "metadata": {
    "collapsed": true
   },
   "outputs": [],
   "source": [
    "agg_model.compile(optimizer='adam', loss='binary_crossentropy', metrics='accuracy')"
   ]
  },
  {
   "cell_type": "code",
   "execution_count": null,
   "metadata": {
    "collapsed": true
   },
   "outputs": [],
   "source": [
    "agg_model.evaluate([res_x_train, inc_x_train, xce_x_train], res_y_train, batch_size=32)"
   ]
  }
 ],
 "metadata": {
  "kernelspec": {
   "display_name": "Python [default]",
   "language": "python",
   "name": "python3"
  },
  "language_info": {
   "codemirror_mode": {
    "name": "ipython",
    "version": 3
   },
   "file_extension": ".py",
   "mimetype": "text/x-python",
   "name": "python",
   "nbconvert_exporter": "python",
   "pygments_lexer": "ipython3",
   "version": "3.6.4"
  }
 },
 "nbformat": 4,
 "nbformat_minor": 2
}
